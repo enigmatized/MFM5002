{
 "cells": [
  {
   "cell_type": "markdown",
   "metadata": {},
   "source": [
    "#### HW 7 P 5 \n",
    "\n",
    "Yes, these do create a basis for $R^3$!\n",
    "\n",
    "\n",
    "Why?\n",
    "\n",
    "Because\n",
    "- We have three vectors! That is a good start, but we also need to check for....\n",
    "- They are linearly independent. This can be checked in a few ways, but one way, is we can make pivot column of vectors as a matrix. Another way on checking is making sure I cannot create one vector from another by simply scaler mulitplication.\n"
   ]
  }
 ],
 "metadata": {
  "language_info": {
   "name": "python"
  }
 },
 "nbformat": 4,
 "nbformat_minor": 2
}
