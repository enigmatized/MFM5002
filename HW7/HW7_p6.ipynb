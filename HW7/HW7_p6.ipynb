{
 "cells": [
  {
   "cell_type": "markdown",
   "metadata": {},
   "source": [
    "$\n",
    "\\begin{bmatrix}\n",
    "a & b & c \\\\\n",
    "d & e & f \\\\\n",
    "g & h & i \n",
    "\\end{bmatrix}\n",
    "$\n",
    "\n",
    "$a(ei - fh) - b(di - gf) + c(dg - eg) =7$\n",
    "\n"
   ]
  },
  {
   "cell_type": "markdown",
   "metadata": {},
   "source": [
    "#### A\n",
    "\n",
    "\n",
    "$a(3ei - 3fh) - b(3di - 3gf) + c(3dh - 3eg) $\n",
    "\n",
    "$3a(ei - fh) - 3b(di - gf) + 3c(dh - eg) $\n",
    "\n",
    "$3(a(ei - fh) + b(di - gf) + c(dh - eg))= 7 *3 = 21 $\n"
   ]
  },
  {
   "cell_type": "markdown",
   "metadata": {},
   "source": [
    "##### B\n",
    "\n",
    "\n",
    "$a(ei - fh) + d(ei - fh) + b(di - gf) + e(di - gf) + c(dg - eg) + f(dg - eg)$\n",
    "\n",
    "$ (dei - dfh)  + (edi - egf)  + (fdh - feg) + 7$\n",
    "\n",
    "$ dei - dfh  + edi - egf  + fdh - feg + 7 = 7$\n"
   ]
  },
  {
   "cell_type": "markdown",
   "metadata": {},
   "source": [
    "##### C\n",
    "\n",
    "Property of determinent, especially for 3x3, that using other rows would result in the same answer...\n",
    "so 7\n"
   ]
  },
  {
   "cell_type": "markdown",
   "metadata": {},
   "source": [
    "##### D\n",
    "\n",
    "$a((2ei+bi) - (2fh+ch)) - b((2d +a)i - ) + c(dg - eg) =7$\n"
   ]
  }
 ],
 "metadata": {
  "language_info": {
   "name": "python"
  }
 },
 "nbformat": 4,
 "nbformat_minor": 2
}
