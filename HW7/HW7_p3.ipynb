{
 "cells": [
  {
   "cell_type": "markdown",
   "metadata": {},
   "source": [
    "### HW 7 P 3 a\n",
    "\n",
    "Note\n",
    "$I = A A^-1$\n",
    "\n",
    "$det(I) = det(A A^-1)$\n",
    "\n",
    "$1 = det(A A^-1)$\n",
    "\n",
    "$1 = det(A) det(A^-1)$ Note the determiment is a scaler\n",
    "\n",
    "$\\frac{1}{det(A)} =  det(A^-1)$"
   ]
  },
  {
   "cell_type": "markdown",
   "metadata": {},
   "source": [
    "### HW 7 P 3 b\n",
    "Isn't this simply the defintion of $P$ and $P^-1$?\n",
    "\n",
    "I think I am missing the point of this problem, because this seems trivial?\n",
    "\n",
    "From the above problem\n",
    "$\\frac{1}{det(A)} =  det(A^-1)$\n",
    "\n",
    "\n",
    "So $det(PAP^{-1})$\n",
    "\n",
    "$det(PAP^{-1})  = det(P) det(A) det(P^{-1})$\n",
    "\n",
    "$det(P) det(A) det(P^{-1}) = det(P) det(A) det(P)^-1$ because $\\frac{1}{det(A)} =  det(A^-1)$\n",
    "\n",
    "$ = det(A) $ determinents are scaler\n",
    "\n"
   ]
  },
  {
   "cell_type": "markdown",
   "metadata": {},
   "source": [
    "### HW 7 P 3 C\n",
    "\n",
    "hmmm this is intresting.\n",
    "\n",
    "$S^T S = I$\n",
    "\n",
    "This is saying $S^T$ is orthognal, by defintion of an othogonal matrix.\n",
    "\n",
    "Meaning $S^TS=I$ which is the same as saying $S^{-1} = S^T$\n",
    "\n",
    "Also another trick to this problem.\n",
    "\n",
    "$S^TS=I$ Does not imply $SS^T=I$, but because this is a $nxn$ matrix, it does.\n",
    "\n",
    "Hmmm.\n",
    "Let's say\n",
    "\n",
    "$det(S^T) det(S) = det(I) =1$\n",
    "I guess we could infer that either $det(S) = 1$ or both $det(S)$, $det(S^T) = -1$ \n",
    "\n"
   ]
  },
  {
   "cell_type": "markdown",
   "metadata": {},
   "source": [
    "### HW 7 P 3 D\n",
    "\n",
    "\n",
    "Well by definition for a matrix to be invertible the determinent must not be zero.\n",
    "\n",
    "And $det(A^3)=0$\n",
    "\n",
    "which means\n",
    "\n",
    "$det(A)det(A)det(A)=0$\n",
    "\n",
    "Which means \n",
    "\n",
    "$det(A)=0$\n"
   ]
  },
  {
   "cell_type": "markdown",
   "metadata": {},
   "source": [
    "### HW 7 P 3 E\n",
    "\n",
    "This one I think is easier to explain in words.\n",
    "The determinent can be thought as an matrix dot product.\n",
    "Thus, if you multiply a scaler $r$ by an n by n matrix, each cell in the col/row matrix will be multiplied by $r$.\n",
    "\n",
    "When taking the determinent of that matrix, we are?\n"
   ]
  }
 ],
 "metadata": {
  "language_info": {
   "name": "python"
  }
 },
 "nbformat": 4,
 "nbformat_minor": 2
}
