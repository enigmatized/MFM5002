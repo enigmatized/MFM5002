{
 "cells": [
  {
   "cell_type": "markdown",
   "metadata": {},
   "source": [
    "#### HW 7 P4 a\n",
    "\n",
    "Yes because the two vectors, under scaler addition and multiplication cover the entire of $R^2$\n",
    "\n",
    "#### HW 7 P4 B\n",
    "\n",
    "No, because vector one equals vectors two if multiplied by -0.5.\n",
    "They do not make an indpendent pair of vectors AKA they are linearly dependent. \n",
    "Thus they do not make a basis in $R^2$. They exist in $R^2$, but do not more a basis of all of $R^2$"
   ]
  },
  {
   "cell_type": "markdown",
   "metadata": {},
   "source": []
  }
 ],
 "metadata": {
  "language_info": {
   "name": "python"
  }
 },
 "nbformat": 4,
 "nbformat_minor": 2
}
