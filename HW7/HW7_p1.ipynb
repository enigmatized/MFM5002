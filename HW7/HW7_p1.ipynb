{
 "cells": [
  {
   "cell_type": "markdown",
   "metadata": {},
   "source": [
    "## HW 7 P1 A\n",
    "\n",
    "Yes because,\n",
    "\n",
    "$Au =0$\n",
    "\n",
    "Note the $Nul(A)$ just means the vector that sends everything to the trivial vector zero.\n",
    "\n"
   ]
  },
  {
   "cell_type": "markdown",
   "metadata": {},
   "source": [
    "## HW 7 P1 B\n",
    "\n",
    "To find  $Col(A) $ we can find the pivots of A and those columns become the basis for the $Col(A)$  "
   ]
  }
 ],
 "metadata": {
  "language_info": {
   "name": "python"
  }
 },
 "nbformat": 4,
 "nbformat_minor": 2
}
