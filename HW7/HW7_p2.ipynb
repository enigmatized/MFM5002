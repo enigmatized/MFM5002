{
 "cells": [
  {
   "cell_type": "markdown",
   "metadata": {},
   "source": [
    "I like this problem\n",
    "\n",
    "### P2\n",
    "\n",
    "#### A\n",
    "\n",
    "Vector v $ = (9999999, 0,0)^T$\n",
    "\n",
    "Such that $Av = 0$"
   ]
  },
  {
   "cell_type": "markdown",
   "metadata": {},
   "source": [
    "#### B\n",
    "\n",
    "The basis for $Col(A)$\n",
    "\n",
    "$(1,0,0)^T$ and $(0,1,0)^T$\n",
    "\n"
   ]
  }
 ],
 "metadata": {
  "language_info": {
   "name": "python"
  }
 },
 "nbformat": 4,
 "nbformat_minor": 2
}
