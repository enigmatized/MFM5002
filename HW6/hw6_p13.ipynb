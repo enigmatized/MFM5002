{
 "cells": [
  {
   "cell_type": "markdown",
   "metadata": {},
   "source": [
    "So we know \n",
    "\n",
    "$b \\cdot  v = 0$\n",
    "and $c_x a = v$\n",
    "\n",
    "So we could say?\n",
    "\n",
    "$ c_x(b \\cdot   a) = 0$\n",
    "\n",
    "$(b \\cdot   a) = 0$\n",
    "\n",
    "(4, -7, 2) \n",
    "\n",
    "\n",
    "and $u = c_x v + b$\n",
    "\n",
    "\n",
    "$c_b(2, 3, 4)  + c_a(2, 3, 4) = (2, 3, 4)$\n",
    "\n",
    "(2, 3, 4) * \n",
    "\n",
    "\n",
    "$ c_a(2, 3, 4) = (4, -7, 2)$ \n"
   ]
  }
 ],
 "metadata": {
  "language_info": {
   "name": "python"
  }
 },
 "nbformat": 4,
 "nbformat_minor": 2
}
