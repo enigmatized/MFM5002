{
 "cells": [
  {
   "cell_type": "markdown",
   "metadata": {},
   "source": [
    "This problem seems weird in its wording, phrasing or setting up.\n",
    "\n",
    "Let me put it this way.\n",
    "vectors $v$ and $u$ are in $R^4$, but then we multiply them by a vector in $R^2$ ?\n",
    "\n",
    "Also by definition of a vector space, this would not apply, because we are close by scalar addition and mulitiplication.\n",
    "\n",
    "\n",
    "So something about this seems very off.\n",
    "\n",
    "\n",
    "If I didn't make this clear: NOT a vector space.\n",
    "\n"
   ]
  }
 ],
 "metadata": {
  "language_info": {
   "name": "python"
  }
 },
 "nbformat": 4,
 "nbformat_minor": 2
}
