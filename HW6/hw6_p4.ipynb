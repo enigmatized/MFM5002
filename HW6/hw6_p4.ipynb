{
 "cells": [
  {
   "cell_type": "markdown",
   "metadata": {},
   "source": [
    "# Problem 4 Solution\n",
    "$\n",
    "AB = \\begin{bmatrix} -3 & 5 \\\\ 7 & 14 \\\\ 0 & 7 \\end{bmatrix}\n",
    "$\n",
    "\n",
    "\n",
    "#### We cannot have BA because the dimensionality for BA do not match for matrix multiplication\n",
    "\n"
   ]
  },
  {
   "cell_type": "markdown",
   "metadata": {},
   "source": [
    "$\n",
    "A = \\begin{bmatrix} 1 & 3 \\\\ 5 & 4 \\\\ 2 & 3 \\end{bmatrix}, \\quad\n",
    "B = \\begin{bmatrix} 3 & 2 \\\\ -2 & 1 \\end{bmatrix}\n",
    "$\n",
    "\n",
    "To compute \\( AB \\), we use matrix multiplication:\n",
    "\n",
    "$\n",
    "AB = \\begin{bmatrix} \n",
    "1 \\cdot 3 + 3 \\cdot (-2) & 1 \\cdot 2 + 3 \\cdot 1 \\\\ \n",
    "5 \\cdot 3 + 4 \\cdot (-2) & 5 \\cdot 2 + 4 \\cdot 1 \\\\ \n",
    "2 \\cdot 3 + 3 \\cdot (-2) & 2 \\cdot 2 + 3 \\cdot 1 \n",
    "\\end{bmatrix}\n",
    "$\n",
    "\n",
    "Now, computing each element:\n",
    "\n",
    "$\n",
    "AB = \\begin{bmatrix} \n",
    "3 - 6 & 2 + 3 \\\\ \n",
    "15 - 8 & 10 + 4 \\\\ \n",
    "6 - 6 & 4 + 3 \n",
    "\\end{bmatrix}\n",
    "$\n",
    "\n",
    "$\n",
    "= \\begin{bmatrix} \n",
    "-3 & 5 \\\\ \n",
    "7 & 14 \\\\ \n",
    "0 & 7 \n",
    "\\end{bmatrix}\n",
    "$"
   ]
  }
 ],
 "metadata": {
  "language_info": {
   "name": "python"
  }
 },
 "nbformat": 4,
 "nbformat_minor": 2
}
