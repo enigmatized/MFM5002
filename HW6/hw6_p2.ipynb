{
 "cells": [
  {
   "cell_type": "markdown",
   "metadata": {},
   "source": [
    "$\\begin{bmatrix} 1 & h & 4 \\\\ 3 & 6 & 8 \\end{bmatrix} $\n",
    "\n",
    "\n",
    "$\\text{This corresponds to the system of equations:} $\n",
    "\n",
    "\n",
    "$x + hy = 4$ \\\\\n",
    "\n",
    "\n",
    "$3x + 6y = 8$ \\\\\n",
    "\n",
    "\n",
    "$\\text{Solving the first equation for x:} $\n",
    "\n",
    "\n",
    "$x = 4 - hy $\n",
    "\n",
    "\n",
    "$\\text{Substituting into the second equation:} $\n",
    "$3(4 - hy) + 6y = 8 \\\\$\n",
    "$12 - 3hy + 6y = 8 \\\\\n",
    "$-3hy + 6y = -4 \\\\\n",
    "$y(-3h + 6) = -4 \\\\$\n",
    "$y = \\frac{-4}{-3h + 6} \\\\$\n",
    "$\\text{For the system to be consistent, the bottom part of the fraction cannot be zero:} \\\\$\n",
    "$-3h + 6 \\neq 0 \\\\$\n",
    "$-3h \\neq -6 \\\\$\n",
    "$h \\neq 2 \\\\$\n",
    "$\\text{The system is consistent for all values of } h \\text{ except } h = 2. \\\\$\n"
   ]
  }
 ],
 "metadata": {
  "language_info": {
   "name": "python"
  }
 },
 "nbformat": 4,
 "nbformat_minor": 2
}
