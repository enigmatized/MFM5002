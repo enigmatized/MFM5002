{
 "cells": [
  {
   "cell_type": "markdown",
   "metadata": {},
   "source": [
    "## A\n",
    "\n",
    "Let $A = \\begin{bmatrix} 3 & 4 \\\\ 5 & 6 \\end{bmatrix}$.\n",
    "\n",
    "$det(A) = (3)(6) - (4)(5) = 18 - 20 = -2$\n",
    "\n",
    "$A^{-1} = \\frac{1}{-2} \\begin{bmatrix} 6 & -4 \\\\ -5 & 3 \\end{bmatrix} = \\begin{bmatrix} -3 & 2 \\\\ \\frac{5}{2} & -\\frac{3}{2} \\end{bmatrix}$.\n",
    "\n",
    "$A \\cdot A^{-1} = \\begin{bmatrix} 3 & 4 \\\\ 5 & 6 \\end{bmatrix} \\begin{bmatrix} -3 & 2 \\\\ \\frac{5}{2} & -\\frac{3}{2} \\end{bmatrix}$\n",
    "$= \\begin{bmatrix} -9 + 10 & 6 - 6 \\\\ -15 + 15 & 10 - 9 \\end{bmatrix}$\n",
    "$= \\begin{bmatrix} 1 & 0 \\\\ 0 & 1 \\end{bmatrix} = I$.\n",
    "\n",
    "$\\therefore A^{-1} = \\begin{bmatrix} -3 & 2 \\\\ \\frac{5}{2} & -\\frac{3}{2} \\end{bmatrix}$\n"
   ]
  },
  {
   "cell_type": "markdown",
   "metadata": {},
   "source": [
    "## B\n",
    "\n",
    "$B = \\begin{bmatrix} -6 & -4 \\\\ 9 & 6 \\end{bmatrix}$\n",
    "\n",
    "$det(B) = (-6)(6) - (-4)(9) = -36 + 36 = 0$\n",
    "\n",
    "$\\therefore$ $B^{-1}$ $\\text{ does not exist.}$\n"
   ]
  },
  {
   "cell_type": "markdown",
   "metadata": {},
   "source": [
    "## C\n",
    "\n",
    "$C = \\begin{bmatrix} 0 & -4 \\\\ 9 & 6 \\end{bmatrix}$\n",
    "\n",
    "$det(C) = (0)(6) - (-4)(9) = 0 + 36 = 36$\n",
    "\n",
    "$C^{-1} = \\frac{1}{36} \\begin{bmatrix} 6 & 4 \\\\ -9 & 0 \\end{bmatrix} = \\begin{bmatrix} \\frac{6}{36} & \\frac{4}{36} \\\\ -\\frac{9}{36} & \\frac{0}{36} \\end{bmatrix} = \\begin{bmatrix} \\frac{1}{6} & \\frac{1}{9} \\\\ -\\frac{1}{4} & 0 \\end{bmatrix}$\n",
    "\n",
    "$C \\cdot C^{-1} = \\begin{bmatrix} 0 & -4 \\\\ 9 & 6 \\end{bmatrix} \\begin{bmatrix} \\frac{1}{6} & \\frac{1}{9} \\\\ -\\frac{1}{4} & 0 \\end{bmatrix} = \\begin{bmatrix} 0 + 1 & 0 + 0 \\\\ \\frac{9}{6} - \\frac{6}{4} & 1 + 0 \\end{bmatrix} = \\begin{bmatrix} 1 & 0 \\\\ \\frac{3}{2} - \\frac{3}{2} & 1 \\end{bmatrix} = \\begin{bmatrix} 1 & 0 \\\\ 0 & 1 \\end{bmatrix} = I$\n",
    "\n",
    "$\\therefore C^{-1} = \\begin{bmatrix} \\frac{1}{6} & \\frac{1}{9} \\\\ -\\frac{1}{4} & 0 \\end{bmatrix}$\n"
   ]
  }
 ],
 "metadata": {
  "language_info": {
   "name": "python"
  }
 },
 "nbformat": 4,
 "nbformat_minor": 2
}
