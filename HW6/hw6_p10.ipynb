{
 "cells": [
  {
   "cell_type": "markdown",
   "metadata": {},
   "source": [
    "First step is to know how you can check for this.\n",
    "\n",
    "Since this is a math department class, I shouldn't be satisfied with getting the answer.\n",
    "I should look to see if I can get the answer in multiple ways.\n",
    "\n",
    "\n",
    "Way one is easy.\n",
    "Just apply the dot product to a pair of same size vector and see if the result is zero. (Which is true for vectors a and b).\n",
    "\n",
    "\n",
    "Another way is using trig and law of cosines.\n",
    "Basically magnitude of vector a, b and new vector c, which just connects vector a and b.\n",
    "\n",
    "Then solve for $c² = a² + b² - 2ab * \\cos(\\theta)$"
   ]
  }
 ],
 "metadata": {
  "language_info": {
   "name": "python"
  }
 },
 "nbformat": 4,
 "nbformat_minor": 2
}
