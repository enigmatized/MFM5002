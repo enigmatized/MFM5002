{
 "cells": [
  {
   "cell_type": "markdown",
   "metadata": {},
   "source": []
  },
  {
   "cell_type": "markdown",
   "metadata": {},
   "source": [
    "#### A\n",
    "\n",
    "$\\frac{5}{8}$\n",
    "\n",
    "#### B\n",
    "\n",
    "$\\frac{8}{52} (4, 6)$ = $ (\\frac{8}{13}, \\frac{12}{13} )$\n",
    "\n",
    "#### C\n",
    "\n",
    "$ (\\frac{-1}{\\sqrt{5}}, \\frac{2}{\\sqrt{5}} )$\n",
    "\n",
    "#### D\n",
    "$ \\sqrt {9 + 1 + 25} = \\sqrt{35}$\n",
    "\n",
    "### E\n",
    "$\\frac{8}{\\sqrt{52}} * v = (\\frac{8 * 4}{\\sqrt{52}} , \\frac{8 * 6}{\\sqrt{52}})$ proj $_v u$\n",
    "\n",
    "\n",
    "$\\frac{8}{5} * u =  (-8/5, 16/5)$ proj $_u v$"
   ]
  },
  {
   "cell_type": "markdown",
   "metadata": {},
   "source": []
  }
 ],
 "metadata": {
  "language_info": {
   "name": "python"
  }
 },
 "nbformat": 4,
 "nbformat_minor": 2
}
