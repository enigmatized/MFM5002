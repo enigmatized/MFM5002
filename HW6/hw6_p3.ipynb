{
 "cells": [
  {
   "cell_type": "markdown",
   "metadata": {},
   "source": [
    "<!-- $\\text{To determine if the columns are linearly independent, we compute the determinant of A:} \\\\$\n",
    "$\\det(A) = 10 \\begin{} 2 & -1 \\\\$\n",
    "$8 & 0 \\end{} $\n",
    "$- 1 \\begin{} 1 & -1 \\\\ 5 & 0 \\end{}$\n",
    "$ + 5 \\begin{} 1 & 2 \\\\ 5 & 8 \\end $ \\\\ -->\n",
    "$\\det(A) = 10(2(0) - (-1)(8)) - 1(1(0) - (-1)(5)) + 5(1(8) - 2(5)) \\\\$\n",
    "$\\det(A) = 10(8) - 1(5) + 5(8 - 10) \\\\$\n",
    "$\\det(A) = 80 - 5 + 5(-2) \\\\$\n",
    "$\\det(A) = 80 - 5 - 10 \\\\$\n",
    "$\\det(A) = 65 \\\\$\n",
    "$\\text{Since } \\det(A) \\neq 0, \\text{ the columns of A are linearly independent.} \\\\$\n",
    "$\\text{The rank of A is the number of linearly independent columns, which is 3.} \\\\$\n",
    "$\\text{Answer:} \\\\$\n",
    "$\\text{Columns are linearly independent.} \\\\$\n",
    "$\\text{Rank(A) = 3}$$"
   ]
  },
  {
   "cell_type": "code",
   "execution_count": null,
   "metadata": {},
   "outputs": [],
   "source": []
  },
  {
   "cell_type": "markdown",
   "metadata": {},
   "source": []
  }
 ],
 "metadata": {
  "language_info": {
   "name": "python"
  }
 },
 "nbformat": 4,
 "nbformat_minor": 2
}
