{
 "cells": [
  {
   "cell_type": "markdown",
   "metadata": {},
   "source": [
    "For this problem we simply  get the magnitude of the vector, then multiply the vector by 1/magnitude.\n",
    "\n",
    "\n",
    "#### A)\n",
    "\n",
    "$v̂= (1/50) * (-30, 40) = (-30/50, 40/50) = (-3/5, 4/5)$\n",
    "\n",
    "#### B)\n",
    "\n",
    "$û = (1/√61) * (6, 4, -3) = (6/√61, 4/√61, -3/√61)$\n",
    "\n"
   ]
  },
  {
   "cell_type": "markdown",
   "metadata": {},
   "source": []
  },
  {
   "cell_type": "markdown",
   "metadata": {},
   "source": []
  }
 ],
 "metadata": {
  "language_info": {
   "name": "python"
  }
 },
 "nbformat": 4,
 "nbformat_minor": 2
}
