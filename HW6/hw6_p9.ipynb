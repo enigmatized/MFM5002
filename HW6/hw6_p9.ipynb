{
 "cells": [
  {
   "cell_type": "markdown",
   "metadata": {},
   "source": [
    "A few ways to think about this.\n",
    "\n",
    "1. See as two vectors that start from the origin. Find a vector that starts from the point of one to the point of the other (can be found with vector addition/subtraction), then find the magnitude of that new vector.\n",
    "\n",
    "In this case, we would have\n",
    "\n",
    "$v - u = (4, -4, -6) $\n",
    "\n",
    "Now take the $L_2$ norm\n",
    "$(16+16+36)^0.5 = 8.25-ish$"
   ]
  }
 ],
 "metadata": {
  "language_info": {
   "name": "python"
  }
 },
 "nbformat": 4,
 "nbformat_minor": 2
}
