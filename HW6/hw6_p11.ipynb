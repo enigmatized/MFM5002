{
 "cells": [
  {
   "cell_type": "markdown",
   "metadata": {},
   "source": [
    "\n",
    "\n",
    "\n",
    "$L_1 = | 5 | + |-4| +|3| + |2| = 14$\n",
    "\n",
    "$L_2 = |25 | + |16| + 9 + 4 = 54$\n",
    "\n",
    "$L_{\\infty} = 5$"
   ]
  }
 ],
 "metadata": {
  "language_info": {
   "name": "python"
  }
 },
 "nbformat": 4,
 "nbformat_minor": 2
}
