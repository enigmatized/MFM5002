{
 "cells": [
  {
   "cell_type": "markdown",
   "metadata": {},
   "source": [
    "\n",
    "\n",
    "$A^{-1}A = I$\n",
    "and \n",
    "$A A^{-1} = I$\n"
   ]
  },
  {
   "cell_type": "markdown",
   "metadata": {},
   "source": [
    "What do we need to have a 2x2 A to get $AA^{-1} = I$?\n",
    "\n",
    "We know that \n",
    "\n",
    "the first column of $A^{-1}$ when multipled to $A$ must be 1.\n",
    "\n",
    "So what combos can we get from that?\n",
    "\n",
    "$ax_1 + bx_2 =1$ so it would seem that either \n",
    "\n",
    "1. $x_1 = \\frac{1}{a}$ and $x_2 == 0$\n",
    "2. or  $x_2 = \\frac{1}{b}$ and $x_1 == 0$ \n",
    "3. or $x_1 $ and $x_2$ equal some value but is divided by $\\frac{1}{ax_1 + bx_2}$\n",
    "\n",
    "Since we know what $A^{-1}$ is, we can show that it is a variation of 3.\n",
    "We can show for all columns of $A^{-1}$ when multiplied by $A$.\n",
    "\n",
    "\n",
    "\n",
    "\n",
    "\n",
    "\n",
    "\n",
    "\n"
   ]
  }
 ],
 "metadata": {
  "language_info": {
   "name": "python"
  }
 },
 "nbformat": 4,
 "nbformat_minor": 2
}
