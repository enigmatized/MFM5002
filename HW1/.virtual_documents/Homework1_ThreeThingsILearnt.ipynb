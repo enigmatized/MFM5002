




















#Chat gpt code helping me out

import numpy as np
import matplotlib.pyplot as plt
from scipy.stats import norm

# 1) Define a fixed mean:
mu = 10.0

# 2) Define some CV values:
cv_list = [0.1, 0.5, 1.0, 2.0]

# 3) Compute corresponding standard deviations:
sigma_list = [cv * mu for cv in cv_list]

# --- PLOT 1: Bar chart of CV vs. sigma ---

fig, axes = plt.subplots(1, 2, figsize=(12, 4))

ax1 = axes[0]
x_positions = np.arange(len(cv_list))

ax1.bar(x_positions, sigma_list, width=0.6, alpha=0.7, color='skyblue')
ax1.set_xticks(x_positions)
ax1.set_xticklabels([f"CV={cv:.1f}" for cv in cv_list])
ax1.set_ylabel("Standard Deviation (σ)")
ax1.set_title("Different σ Values for Each CV (μ=10)")

# Annotate the bars with the numeric sigma values:
for i, (cv, sig) in enumerate(zip(cv_list, sigma_list)):
    ax1.text(i, sig + 0.1, f"σ = {sig:.1f}", ha='center', va='bottom')

# --- PLOT 2: PDF curves for each Normal distribution ---

ax2 = axes[1]

# Define an x-range wide enough to see the distributions
x = np.linspace(0, 50, 400)

for cv, sig in zip(cv_list, sigma_list):
    # Create the pdf for Normal(mean=mu, std=sig)
    pdf = norm.pdf(x, loc=mu, scale=sig)
    label_str = f"CV={cv:.1f}, σ={sig:.1f}"
    ax2.plot(x, pdf, label=label_str, linewidth=2)

ax2.set_xlabel("x")
ax2.set_ylabel("PDF")
ax2.set_title("Normal Distributions with Different CV")
ax2.legend()

plt.tight_layout()
plt.show()



