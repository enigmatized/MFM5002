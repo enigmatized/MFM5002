{
 "cells": [
  {
   "cell_type": "code",
   "execution_count": null,
   "metadata": {},
   "outputs": [],
   "source": []
  },
  {
   "cell_type": "markdown",
   "metadata": {},
   "source": [
    "\n",
    "$ 2\\mathrm{e}^{-2y - x}$\n",
    "\n",
    "\n",
    "\n",
    "\n",
    "$ 2 \\int \\mathrm{e}^{-2y - x} dy $\n",
    "\n",
    "u-sub such that $ −2y−x ⟶ du = -2dy $\n",
    "\n",
    "$ - \\int \\mathrm{e}^{u} du $\n",
    "\n",
    "$-\\mathrm{e}^{-2y - x} + C$\n",
    "\n",
    "\n",
    "#### \n",
    "\n",
    "$ 2 \\int \\mathrm{e}^{-2y - x} dx =   -2e^{-x-2y} $"
   ]
  }
 ],
 "metadata": {
  "language_info": {
   "name": "python"
  }
 },
 "nbformat": 4,
 "nbformat_minor": 2
}
