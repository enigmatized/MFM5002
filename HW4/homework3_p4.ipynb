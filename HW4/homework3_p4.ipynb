{
 "cells": [
  {
   "cell_type": "markdown",
   "metadata": {},
   "source": [
    "# Problem 4\n",
    "\n",
    "Note I did this problem last week for the 3 things I learnt.\n",
    "\n",
    "\n",
    "But, going over it I see there is some notation mistakes.\n",
    "\n",
    "\n",
    "This is a semi revised answer I did from last week's 3 things I learnt."
   ]
  },
  {
   "cell_type": "markdown",
   "metadata": {},
   "source": [
    "\n",
    "\n",
    "We want to find the probability that X is greater than or equal to the product YZ.\n",
    "We also know X, Y, and Z are independent.\n",
    "\n",
    "\n",
    "If we were finding $P(X \\ge YZ) = \\int _0 ^1 \\int _0 ^1 \\int _0 ^1 1 dy dz dx$\n",
    "\n",
    "It would make sense to if we were to find\n",
    "\n",
    "$CDF(X) - CDF(ZY) $ for all $P(X \\ge ZY)$ \n",
    "\n",
    "\n",
    "\n",
    "Which would be \n",
    "\n",
    "$P(X \\ge YZ ∣ Y,Z) =  \\int _{ZY} ^1 1 dx = 1 -  ZY$\n",
    "\n",
    "I think in the last 3 things I learnt, I did not explain this step, nor did I really understand what was going on.\n",
    "I think I was fitting the logic I thought was correct with the solution.\n",
    "\n",
    "The correct logic is the fact that $Z, X, Y$ are ~ $\\large{U} (0,1) $\n",
    "\n",
    "This means using the conditional probability that $X\\ge YZ$, given specific values of $Y$ and $Z$.\n",
    "\n",
    "Note that $\\frac{ P(X \\ge ZY ,Z,Y) }{P(Z, Y)}$\n",
    "\n",
    "And $ P(X \\ge ZY ,Z,Y)  = (1-yz)dydz$\n",
    "\n",
    "And $ P(Z,Y)  = 1 dydz$ since $Z, Y$ are ~ $\\large{U} (0,1) $\n",
    "\n",
    "\n",
    "\n",
    "So $P(X \\ge YZ ∣ Y,Z) = \\frac{ P(X \\ge ZY ,Z,Y) }{P(Z, Y)} = \\frac{(1-yz)dydz}{1 dydz}=1-yz$\n",
    "\n",
    "\n",
    "This would get us\n",
    "$= \\int _0 ^1 \\int _0 ^1  (1 -  ZY) dy dz$\n",
    "\n",
    "\n",
    "$= \\int _0 ^1   (1 -  \\frac{z}{2}) dz$\n",
    "\n",
    "\n",
    "$=   (1 -  \\frac{1}{4}) = \\frac{3}{4} $\n"
   ]
  }
 ],
 "metadata": {
  "language_info": {
   "name": "python"
  }
 },
 "nbformat": 4,
 "nbformat_minor": 2
}
