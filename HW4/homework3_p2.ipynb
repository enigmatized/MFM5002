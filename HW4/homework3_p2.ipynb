{
 "cells": [
  {
   "cell_type": "markdown",
   "metadata": {},
   "source": [
    "### Part A\n",
    "\n",
    "\n",
    "$f_X(x) =  \\begin{cases}\n",
    "0.10,  \\text{if } x = 0 \\\\\n",
    "0.20,  \\text{if } x = 1 \\\\\n",
    "0.30,  \\text{if } x = 2 \\\\\n",
    "0.30,  \\text{if } x = 3 \\\\\n",
    "0.10,  \\text{if } x = 4 \\\\\n",
    "0,  \\text{otherwise}\n",
    "\\end{cases}\n",
    "$\n",
    "\n",
    "$\n",
    "f_Y(y) = \\begin{cases}\n",
    "0.50, & \\text{if } y = 0 \\\\\n",
    "0.40, & \\text{if } y = 1 \\\\\n",
    "0.10, & \\text{if } y = 2 \\\\\n",
    "0, & \\text{otherwise}\n",
    "\\end{cases}\n",
    "$"
   ]
  },
  {
   "cell_type": "markdown",
   "metadata": {},
   "source": [
    "### Part B\n",
    "$\n",
    "F_X(1) = 0.30 \\\\\n",
    "F_Y(2) = 1.00 \\\\\n",
    "F_{XY}(1,2) = 0.30\n",
    "$"
   ]
  },
  {
   "cell_type": "markdown",
   "metadata": {},
   "source": [
    "### Part C\n",
    "\n",
    "$\n",
    "P(X > Y) = P(1,0) + P(2,0) + P(2,1) + P(3,0) + P(3,1) + P(3,2) + P(4,0) + P(4,1) + P(4,2)\n",
    "= 0.08 + 0.14 + 0.14 + 0.18 + 0.10 + 0.02 + 0.08 + 0.02 + 0.00 = 0.76\n",
    "$"
   ]
  },
  {
   "cell_type": "markdown",
   "metadata": {},
   "source": [
    "### Part D\n",
    "\n",
    "$P(X + Y = 3) = P(0,3) + P(1,2) + P(2,1) + P(3,0) = P(3,0) + P(2,1) + P(1,2) +P(0,3)$\n",
    "\n",
    "$= 0.18 + 0.14 + 0.10 = 0.42$\n",
    "\n",
    "$\n",
    "P(X + Y = 3) = 0.42\n",
    "$"
   ]
  },
  {
   "cell_type": "markdown",
   "metadata": {},
   "source": [
    "### Part E\n",
    "\n",
    "$P(Z = 0) = P(0, 0) = 0.02$\n",
    "\n",
    "$P(Z = 1) = P(0, 1) + P(1, 0) = 0.04 + 0.08 = 0.12$\n",
    "\n",
    "$P(Z = 2) = P(0, 2) + P(1, 1) + P(2, 0) = 0.04 + 0.10 + 0.14 = 0.28$\n",
    "\n",
    "$P(Z = 3) = P(1, 2) + P(2, 1) + P(3, 0) = 0.14 + 0.14 + 0.18 = 0.42$\n",
    "\n",
    "$P(Z = 4) = P(2, 2) + P(3, 1) + P(4, 0) = 0.02 + 0.10 + 0.08 = 0.20$\n",
    "\n",
    "$P(Z = 5) = P(3, 2) + P(4, 1) = 0.02 + 0.02 = 0.04$\n",
    "\n",
    "$P(Z = 6) = P(4, 2) = 0.00$\n",
    "\n",
    "\n",
    "$f_Z(z) = \\begin{cases}\n",
    "0.02, \\text{if } z = 0 \\\\\n",
    "0.12, \\text{if } z = 1 \\\\\n",
    "0.28, \\text{if } z = 2 \\\\\n",
    "0.42, \\text{if } z = 3 \\\\\n",
    "0.20, \\text{if } z = 4 \\\\\n",
    "0.04, \\text{if } z = 5 \\\\\n",
    "0.00, \\text{if } z = 6 \\\\\n",
    "0,  \\text{otherwise}\n",
    "\\end{cases}$"
   ]
  },
  {
   "cell_type": "markdown",
   "metadata": {},
   "source": [
    "## Part F  Conditional PMF of X given Y = 1\n",
    "\n",
    "$\n",
    "f_{X|Y}(x|1) = \\begin{cases}\n",
    "0.10, & \\text{if } x = 0 \\\\\n",
    "0.25, & \\text{if } x = 1 \\\\\n",
    "0.35, & \\text{if } x = 2 \\\\\n",
    "0.25, & \\text{if } x = 3 \\\\\n",
    "0.05, & \\text{if } x = 4 \\\\\n",
    "0, & \\text{otherwise}\n",
    "\\end{cases}\n",
    "$\n",
    "\n",
    "\n",
    "Basically for each $X$ , $ \\frac{P(X_i, Y_1) }{P(Y_1)}$ "
   ]
  },
  {
   "cell_type": "markdown",
   "metadata": {},
   "source": [
    "## Part G Conditional PMF of X given X + Y = 3\n",
    "\n",
    "\n",
    "$\n",
    "f_{X|X+Y}(x|3) = \\begin{cases}\n",
    "0, & \\text{if } x = 0 \\\\\n",
    "\\frac{1}{3}, & \\text{if } x = 1 \\\\\n",
    "\\frac{1}{3}, & \\text{if } x = 2 \\\\\n",
    "\\frac{3}{7}, & \\text{if } x = 3 \\\\\n",
    "0, & \\text{otherwise}\n",
    "\\end{cases}\n",
    "$\n",
    "\n",
    "\n",
    "We want $f_{X|X+Y} P(x|3) = P(X=x | X+Y=3) = P(X=x, X+Y=3) / P(X+Y=3)$. \n",
    "\n",
    "$P(X+Y=3) = 0.42$.  \n",
    "\n",
    "\n",
    "$f_{X|X+Y}(0|3) = P(0,3)/0.42 = 0$\n",
    "\n",
    "\n",
    "$f_{X|X+Y}(1|3) = P(1, 2) / 0.42 = 0.14 / 0.42 = 1/3$\n",
    "\n",
    "$f_{X|X+Y}(2|3) = P(2, 1) / 0.42 = 0.14 / 0.42 = 1/3$\n",
    "\n",
    "$f_{X|X+Y}(3|3) = P(3, 0) / 0.42 = 0.18 / 0.42 = 3/7$\n",
    "\n",
    "\n",
    "This is equivalent to $P(X=x, Y=3-x) / P(X+Y=3)$."
   ]
  },
  {
   "cell_type": "code",
   "execution_count": null,
   "metadata": {},
   "outputs": [],
   "source": []
  }
 ],
 "metadata": {
  "kernelspec": {
   "display_name": "HackathonJan2025",
   "language": "python",
   "name": "python3"
  },
  "language_info": {
   "codemirror_mode": {
    "name": "ipython",
    "version": 3
   },
   "file_extension": ".py",
   "mimetype": "text/x-python",
   "name": "python",
   "nbconvert_exporter": "python",
   "pygments_lexer": "ipython3",
   "version": "3.13.1"
  }
 },
 "nbformat": 4,
 "nbformat_minor": 2
}
