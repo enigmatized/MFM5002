{
 "cells": [
  {
   "cell_type": "code",
   "execution_count": null,
   "metadata": {},
   "outputs": [],
   "source": [
    "\n",
    "\n"
   ]
  },
  {
   "cell_type": "markdown",
   "metadata": {},
   "source": [
    "I like this problem.\n",
    "\n",
    "\n",
    "So I think there are a few situations to consider.\n",
    "I am going to ignore a few as well.\n",
    "I think the situation where no coins are flipped or only one is flipped, I will ignore.\n",
    "\n",
    "Therefore I am going to answer this problem as if, atleast two coin flips have occured.\n",
    "\n",
    "1. So in case only to coin flips have occured then cov(x, x) = cov(x,y) = cov(y, y)\n",
    "2. So in the case of only three coin flips have occured?\n",
    "\n",
    "\n",
    "$Cov(x, y) = E[xy] - E[x]E[y]$\n",
    "\n",
    "Well, 1/2 * \n",
    "\n",
    "Binomial distrobution.\n",
    "\n",
    "\n",
    "I think the real heart of the problem is what do you do in this case where they share values?\n",
    "And what do you do when they absolutely do not share values?\n",
    "How does the covariance equation get calculated in those regards?\n"
   ]
  }
 ],
 "metadata": {
  "language_info": {
   "name": "python"
  }
 },
 "nbformat": 4,
 "nbformat_minor": 2
}
