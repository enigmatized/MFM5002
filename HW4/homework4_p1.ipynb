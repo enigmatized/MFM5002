{
 "cells": [
  {
   "cell_type": "code",
   "execution_count": null,
   "metadata": {},
   "outputs": [],
   "source": [
    "\n",
    "\n"
   ]
  },
  {
   "cell_type": "markdown",
   "metadata": {},
   "source": [
    "\\begin{array}{|c|c|c|c|c|c|c|c }\n",
    "\\hline\n",
    "\\text{Flip 1} & \\text{Flip 2} & \\text{Flip 3} & \\text{Outcome} & \\text{X}  & \\text{Y}  \\\\\n",
    "\\hline\n",
    "H & H & H & HHH & 2 & 2 \\\\\n",
    "H & H & T & HHT & 2 & 1\\\\\n",
    "H & T & H & HTH & 1 & 1\\\\\n",
    "H & T & T & HTT & 1 & 0\\\\\n",
    "T & H & H & THH & 1 & 2\\\\\n",
    "T & H & T & THT & 1 & 1\\\\\n",
    "T & T & H & TTH & 0 & 1 \\\\\n",
    "T & T & T & TTT & 0 & 0\\\\\n",
    "\\hline\n",
    "\\end{array}\n",
    "\n",
    "\n",
    "Binomial distrobution mean = $np =1$\n",
    "\n",
    "$\\text{Cov}(X, Y) = \\frac{\\sum_{i=1}^{N} (x_i - \\mu_x)(y_i - \\mu_y)}{N}$\n",
    "\n",
    "Sample for this case\n",
    "$\\text{Cov}(X, Y) = \\frac{\\sum_{i=1}^{n} (x_i - \\bar{x})(y_i - \\bar{y})}{n-1}$\n",
    "\n",
    "\\begin{array}{|c|c|c|c|c|c|c|c }\n",
    "\\hline\n",
    "\\text{$(x_i - \\bar{x})$}   & \\text{$(y_i - \\bar{y})$} & \\text{$(x_i - \\bar{x})(y_i - \\bar{y})$}  \\\\\n",
    "\\hline\n",
    "1 & 1 & 1  \\\\\n",
    "1 & 0 & 0 \\\\\n",
    "0 & 0 & 0 \\\\\n",
    "0 & -1 & 0 \\\\\n",
    "0 & 1 & 0 \\\\\n",
    "0 & 0 & 0 \\\\\n",
    "-1 & 0 & 0  \\\\\n",
    "-1 & -1 & 1 \\\\\n",
    "\\hline\n",
    "\\end{array}\n",
    "\n",
    "\n",
    "\n",
    "$ \\frac{2}{(8-1)}= \\frac{2}{7}$ sample cov\n",
    "\n",
    "$ \\frac{2}{(8)}=  \\frac{2}{8}$ using population formula, makes sense to use sample here because n is so small.\n"
   ]
  },
  {
   "cell_type": "markdown",
   "metadata": {},
   "source": [
    "\n",
    "\n"
   ]
  }
 ],
 "metadata": {
  "language_info": {
   "name": "python"
  }
 },
 "nbformat": 4,
 "nbformat_minor": 2
}
