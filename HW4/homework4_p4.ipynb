{
 "cells": [
  {
   "cell_type": "markdown",
   "metadata": {},
   "source": [
    "![Alternate text](Problem4Image.png)"
   ]
  },
  {
   "cell_type": "markdown",
   "metadata": {},
   "source": [
    "My first thought was to solve the bad guy below using calculus\n",
    "\n",
    " $ y\\frac{P_{x,y}}{P_x} = \\frac{\\frac{1}{2 \\pi \\sqrt{1-\\rho^2}} \\exp \\{-\\frac{1}{2 (1-\\rho^2)} \\big[ x^2-2\\rho x y+y^2 \\big] \\}} {\\frac{1}{\\sqrt {2\\pi \\sigma ^2}}  e^{\\frac{-(x - \\mu)^2}{2\\sigma ^2}}}$\n",
    "\n",
    "But note what we are really being asked is to find\n",
    "\n",
    "\n",
    "$Y \\mid X = x \\sim \\mathcal{N}\\left(\\mu_Y + \\rho \\frac{\\sigma_Y}{\\sigma_X} (x - \\mu_X), (1 - \\rho^2) \\sigma_Y^2 \\right)$\n",
    "\n",
    "Which in that sense means manipulating properties of normal and bivariate normal distrobutions."
   ]
  },
  {
   "cell_type": "markdown",
   "metadata": {},
   "source": [
    "Note: $\\rho_{XY} = \\rho(X,Y) = \\frac{\\text{Cov}(X,Y)}{\\sqrt{\\text{Var}(X) \\text{Var}(Y)}} = \\frac{\\text{Cov}(X,Y)}{\\sigma_X \\sigma_Y}$\n",
    "\n",
    "(This is more for myself, then the solution itself)"
   ]
  },
  {
   "cell_type": "markdown",
   "metadata": {},
   "source": [
    "Note that being jointly normal means that any linear combination of X and Y is (univariate) normally distributed, and in particular the joint distribution has the familiar bivariate‐normal PDF.\n",
    "\n",
    "Or we can use the fact of linear combination with standard normal then\n",
    "\n",
    "\\begin{cases}\n",
    "X = \\sigma_X Z_1 + \\mu_X \\\\\n",
    "Y = \\sigma_Y (\\rho Z_1 + \\sqrt{1-\\rho^2} Z_2) + \\mu_Y\n",
    "\\end{cases}\n",
    "\n",
    "Now we can have X and Y in as two independent standard normal random variables $Z1​$ and $Z2$.\n",
    "\n",
    "The coefficient $ρ$ in front of $Z1$​ inside $Y$ and the factor ​ in front of $Z2$​ ensure that the correlation between $X$ and $Y$ ends up being exactly $ρ$."
   ]
  },
  {
   "cell_type": "markdown",
   "metadata": {},
   "source": [
    "$X = \\sigma_X Z_1 + \\mu_X \\implies Z_1 = \\frac{X - \\mu_X}{\\sigma_X}$\n",
    "\n",
    "What about $Z2$​? The key is that $Z2$​ is independent of $Z1$​. Therefore, observing $X$ (which tells us $Z1$​) gives no additional information about $Z2$. So once you know $X=x$, the variable $Z2$​ still behaves like an independent $N(0,1$)$.\n",
    "\n",
    "\n",
    "Now we can make\n",
    "\n",
    "$ Y = \\sigma_Y (\\rho Z_1 + \\sqrt{1-\\rho^2} Z_2) + \\mu_Y$\n",
    "into \n",
    "\n",
    "\n",
    "$Y = \\sigma_Y \\rho \\frac{x - \\mu_X}{\\sigma_X} + \\sigma_Y \\sqrt{1 - \\rho^2} Z_2 + \\mu_Y.$\n",
    "\n",
    "Notice this is a linear function of $Z_2$. Because $Z_2 \\sim \\mathcal{N}(0, 1)$ and is independent of everything else (once $X$ is known), a linear function of a normal random variable is itself normal.\n",
    "\n",
    "Thus conditionally on $X = x$, $Y$ is (univariate) normal."
   ]
  },
  {
   "cell_type": "markdown",
   "metadata": {},
   "source": [
    "#### $\\textbf{5. Find the Conditional Mean and Variance}$\n",
    "\n",
    "Because $Y$ given $X=x$ is a linear function of $Z_2$, we can read off:\n",
    "\n",
    "##### Mean of $Y \\mid X = x$\n",
    "\n",
    "Since $\\rho \\frac{x - \\mu_X}{\\sigma_X}$ is a constant when $x$ is given, and $\\sigma_Y \\sqrt{1 - \\rho^2} Z_2$ has mean 0 (because $Z_2$ has mean 0), the conditional mean is\n",
    "\n",
    "\n",
    "$\n",
    "E[Y \\mid X = x] = \\sigma_Y \\rho \\frac{x - \\mu_X}{\\sigma_X} + \\mu_Y = \\mu_Y + \\rho \\frac{\\sigma_Y}{\\sigma_X} (x - \\mu_X).\n",
    "$\n",
    "\n",
    "##### Variance of $Y \\mid X = x$\n",
    "\n",
    "The random part is $\\sigma_Y \\sqrt{1 - \\rho^2} Z_2$. Its variance is\n",
    "$\n",
    "\\text{Var}(\\sigma_Y \\sqrt{1 - \\rho^2} Z_2) = (\\sigma_Y \\sqrt{1 - \\rho^2})^2 \\text{Var}(Z_2) = \\sigma_Y^2 (1 - \\rho^2).\n",
    "$\n",
    "\n",
    "Putting these together:\n",
    "$\n",
    "Y \\mid X = x \\sim \\mathcal{N}\\left(\\mu_Y + \\rho \\frac{\\sigma_Y}{\\sigma_X} (x - \\mu_X), (1 - \\rho^2) \\sigma_Y^2 \\right).\n",
    "$"
   ]
  }
 ],
 "metadata": {
  "language_info": {
   "name": "python"
  }
 },
 "nbformat": 4,
 "nbformat_minor": 2
}
