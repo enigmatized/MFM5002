{
 "cells": [
  {
   "cell_type": "markdown",
   "metadata": {},
   "source": [
    "X = $[0,1]$\n",
    "\n",
    "Y = $[x, 1]$\n",
    "\n",
    "\n",
    "So how I would do A\n",
    "\n",
    "$E[Y|X] =  \\frac{\\int _x ^1 \\frac{1}{-x} dy}{\\int _0 ^1  x dx}  $\n",
    "\n",
    "I think I am setting this up totally wrong.\n",
    "\n",
    "I think the integral is something very different.\n",
    "\n",
    "I think the integral should be something like,\n",
    "\n",
    "Actually I think this is on the right course.\n",
    "\n",
    "Largely because I believe the answer to this will be an equation that is relative to X.\n",
    "\n",
    "The part I am not sure about is the expecation division part.\n",
    "\n",
    "\n"
   ]
  },
  {
   "cell_type": "markdown",
   "metadata": {},
   "source": [
    "##### part 2\n",
    "\n"
   ]
  }
 ],
 "metadata": {
  "language_info": {
   "name": "python"
  }
 },
 "nbformat": 4,
 "nbformat_minor": 2
}
