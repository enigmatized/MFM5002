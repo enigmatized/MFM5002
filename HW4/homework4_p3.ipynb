{
 "cells": [
  {
   "cell_type": "markdown",
   "metadata": {},
   "source": [
    "#### Part A\n",
    "\n",
    "X = $[0,1]$\n",
    "\n",
    "Y = $[x, 1]$\n",
    "\n",
    "\n",
    "Note $f_ {X,Y} (x,y) = f_ {X|Y}(y|x) f_X(x)$\n",
    "\n",
    "<!-- =    \\frac{\\int _x ^1 y \\frac{1}{1-x} dy}{\\int _0 ^1  x dx}  -->\n",
    "\n",
    "$E[Y|X]  = \\int _x ^1 y \\frac{1}{1-x} dy = \\frac{1}{(1-x)2} - \\frac{x^2}{(1-x)2} = \\frac{1-x^2}{(1-x)2}  $\n",
    "\n",
    "$\\frac{(1+x)(1-x)}{(1-x)2} = \\frac{(1+x)}{2}$\n",
    "\n",
    "\n",
    "\n"
   ]
  },
  {
   "cell_type": "markdown",
   "metadata": {},
   "source": [
    "##### part B\n",
    "\n",
    "\n",
    "$E[Y] = E[Y|X] = \\int _x ^1 y \\frac{1}{1-x} dy $"
   ]
  },
  {
   "cell_type": "markdown",
   "metadata": {},
   "source": []
  }
 ],
 "metadata": {
  "language_info": {
   "name": "python"
  }
 },
 "nbformat": 4,
 "nbformat_minor": 2
}
