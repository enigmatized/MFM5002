{
 "cells": [
  {
   "cell_type": "markdown",
   "metadata": {},
   "source": []
  },
  {
   "cell_type": "markdown",
   "metadata": {},
   "source": [
    "My characteristic polnomial equation.\n",
    "\n",
    "$(1- \\lambda )(2- \\lambda) - 30  = 2 + -3\\lambda - \\lambda^2 - 30 = -3\\lambda - \\lambda^2 - 28 =  (\\lambda - 7)(\\lambda + 4)$\n",
    "\n",
    "\n",
    "So $\\lambda = 7, \\lambda = -4 $\n",
    "\n"
   ]
  },
  {
   "cell_type": "markdown",
   "metadata": {},
   "source": []
  }
 ],
 "metadata": {
  "language_info": {
   "name": "python"
  }
 },
 "nbformat": 4,
 "nbformat_minor": 2
}
