{
 "cells": [
  {
   "cell_type": "markdown",
   "metadata": {},
   "source": [
    "### Problem 1\n",
    "\n",
    "$2-t+t^2$\n",
    "\n",
    "So \n",
    "\n",
    "$(t+5)(2-t+t^2) = t^3 -t^2 +2t +10 -5t+5t^2 $\n",
    "\n",
    "$ t^3 +4t^2 -3t +10  $\n",
    "\n"
   ]
  },
  {
   "cell_type": "markdown",
   "metadata": {},
   "source": [
    "For a linear transformation\n",
    "We need to check to properties\n",
    "\n",
    "1. Additive and homogeneity (perserves scalar mulitplication)\n",
    "\n",
    "Thus,\n",
    "$T(u + v) = T(u) +T(v)$\n",
    "\n",
    "and \n",
    "\n",
    "\n",
    "$cT(v) =T(cv)$\n",
    "\n",
    "\n",
    "\n",
    "So,\n",
    "\n",
    "So check\n",
    "$T(c(2-t+t^2))= cT((2-t+t^2))$\n",
    "\n",
    "\n",
    "$(t+5)(c(2-t+t^2)) = (t+5)((c2-ct+ct^2))$\n",
    "\n",
    "$(t+5)((c2-ct+ct^2)) = ((c2t-ct^2+ct^3)) + ((c10-c5t+c5t^2))$\n",
    "$ ((c2t-ct^2+ct^3)) + ((c10-c5t+c5t^2)) =  c2t-ct^2+ct^3 + c10-c5t+c5t^2 $\n",
    "\n",
    "$c2t-ct^2+ct^3 + c10-c5t+c5t^2 = c(t^3 +4t^2 -3t +10  )$\n",
    "\n",
    "#### passes Homogeneity test\n",
    "#### Now check for additive\n",
    "\n",
    "\n",
    "Note \n",
    "$T(u + v)$\n",
    "Since the transformation is mulitplication.\n",
    "$T(u + v) = (t+5)(u+v) = (t+5)(u) + (t+5)(v) = T(u) +T(v)$\n",
    "\n",
    "\n",
    "\n",
    "### Thus a linear transformation\n",
    "\n",
    "\n"
   ]
  },
  {
   "cell_type": "markdown",
   "metadata": {},
   "source": [
    "Okay the basis questin is a little tricky and not at the same time.\n",
    "\n",
    "The Basis for T relative to the basis of\n",
    "$\\{1, t, t^2 \\}$\n",
    "\n",
    "\n",
    "\n",
    "If we transform these into vectors column vectors.\n",
    "and applying the transformation on them.\n",
    "\n",
    "We would get\n",
    "\n",
    "$\n",
    "T(1) = (t+5)(1) = t+5 \\\\\n",
    "T(t) = (t+5)(t) = t^2+5t \\\\\n",
    "T(t^2) = (t+5)(t^2) = t^3+5t^2 \\\\ \\\\\n",
    "$"
   ]
  },
  {
   "cell_type": "markdown",
   "metadata": {},
   "source": [
    "\n",
    "$\n",
    "T(1) = 5 + t = 5 \\cdot 1 + 1 \\cdot t + 0 \\cdot t^2 + 0 \\cdot t^3 \\\\\n",
    "T(t) = 5t + t^2 = 0 \\cdot 1 + 5 \\cdot t + 1 \\cdot t^2 + 0 \\cdot t^3 \\\\\n",
    "T(t^2) = 5t^2 + t^3 = 0 \\cdot 1 + 0 \\cdot t + 5 \\cdot t^2 + 1 \\cdot t^3 \\\\ \\\\$\n",
    "\n",
    "$\n",
    "[T(1)]_{\\mathcal{C}} = \\begin{bmatrix} 5 \\\\ 1 \\\\ 0 \\\\ 0 \\end{bmatrix} \\\\ \\\\\n",
    "[T(t)]_{\\mathcal{C}} = \\begin{bmatrix} 0 \\\\ 5 \\\\ 1 \\\\ 0 \\end{bmatrix} \\\\ \\\\\n",
    "[T(t^2)]_{\\mathcal{C}} = \\begin{bmatrix} 0 \\\\ 0 \\\\ 5 \\\\ 1 \\end{bmatrix} \\\\ \\\\\n",
    "$\n",
    "\n",
    "\n",
    "$A = \\begin{bmatrix} [T(1)]_{\\mathcal{C}} & [T(t)]_{\\mathcal{C}} & [T(t^2)]_{\\mathcal{C}} \\end{bmatrix} = \\begin{bmatrix} 5 & 0 & 0 \\\\ 1 & 5 & 0 \\\\ 0 & 1 & 5 \\\\ 0 & 0 & 1 \\end{bmatrix} \\\\ \\\\$\n",
    "\n",
    "\n",
    "$\n",
    "\\text{(This is a } 4 \\times 3 \\text{ matrix, as } \\dim(P_3)=4 \\text{ and } \\dim(P_2)=3 \\text{.)}\n",
    "$"
   ]
  }
 ],
 "metadata": {
  "language_info": {
   "name": "python"
  }
 },
 "nbformat": 4,
 "nbformat_minor": 2
}
