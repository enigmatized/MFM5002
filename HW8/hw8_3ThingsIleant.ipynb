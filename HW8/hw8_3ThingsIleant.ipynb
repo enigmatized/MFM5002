{
 "cells": [
  {
   "cell_type": "markdown",
   "metadata": {},
   "source": [
    "### Reviewing Problems 2 +1 from HW8\n",
    "\n",
    "Problems 1 and + in HW8 were harder for me than then rest of the problems.\n",
    "\n",
    "There were a few gaps in my understanding or leaps to regonize.\n",
    "\n",
    "\n",
    "- Polynomials as vectors: The first thing the see is that we can treat polynomial as vectors. I think this is sorta where the abstract algebra come in. As vector addition and multiplying them by scalars follow the same properties.\n",
    "\n",
    "- Basis and coordinates. Just like the standard basis for $R^3$ is $\\{ (1,0,0), (0,1,0), (0,0,1) \\}$ we can represent polynomials in a similiar manner.\n",
    "\n",
    "- The take away. If we have a Basis for $V$ and a basis $C$ for $W $ then the linear transformation $ T: V \\rightarrow W $ can be repsented as matrix $M$\n",
    "\n",
    "\n"
   ]
  },
  {
   "cell_type": "markdown",
   "metadata": {},
   "source": [
    "For the 3 things I learnt, I am going to play around with the Optional problems in HW8.\n",
    "\n",
    "\n",
    "QR Factorization Problem.\n",
    "\n",
    "I might have not done this properly.\n",
    "\n",
    "But the question states to show $ A \\hat x = \\hat b$ has a unique solution for $\\hat b$ in $R^n$\n",
    "\n",
    "For starters we know that invertible matrix, has this in the defintion (the unique solution for $\\hat b$ in $R^n$ part).\n",
    "\n",
    "So from that persepctive, then the question is asking, show that $A$ is invertible.\n",
    "\n",
    "This is not too hard.\n",
    "\n",
    "We know that $Q$ and $R$ are invertible.\n",
    "We know this because it is stated that $Q^TQ = I$\n",
    "It is also stated that R is invertiable.\n",
    "\n",
    "\n",
    "By properties of determinents.\n",
    "\n",
    "We know\n",
    "\n",
    "$$ det(QR) = det(Q)det(R)$$\n",
    "\n",
    "\n",
    "And since $det(Q) \\neq 0  $ and $ det(R) \\neq 0$, then it must be that these have a $det(Q)det(R) \\neq 0$\n",
    "\n",
    "So then \n",
    "\n",
    "$ A \\hat x = \\hat b$ has a unique solution for $\\hat b$ in $ R^n $\n",
    "\n",
    "(I should have save for all $ nxn $) Matrices\n",
    "\n",
    "\n",
    "### BUT What computations with 𝑄 and 𝑅 will produce the solution\n",
    "\n",
    "\n",
    "\n",
    "We can simply choose values to see what makes $A$ invertible.\n",
    "\n",
    "With inspection\n",
    "\n",
    "$A = QR$\n",
    "\n",
    "$AR^{-1}Q^T = QR  R^{-1}Q^T \\\\ \n",
    " = QR  R^{-1}Q^T \\\\\n",
    " = QQ^T \\\\\n",
    " = I \\\\\n",
    "$\n",
    "\n",
    "\n",
    "$R^{-1}Q^TA = R^{-1}Q^TQR   \\\\ \n",
    " = R^{-1}Q^TQR   \\\\\n",
    " = R^{-1}R \\\\\n",
    " = I \\\\\n",
    "$\n",
    "\n"
   ]
  },
  {
   "cell_type": "markdown",
   "metadata": {},
   "source": [
    "# Now the question on singular value decompostion\n",
    "$ T = UDV^T $\n",
    "\n",
    "#### The Problem states \"Show that A is invertible and find an expression for $A^{-1}$\"\n",
    "\n",
    "\n",
    "\n",
    "Again, we can do the same trick as above and use the defintions of these basic \"Types\"\n",
    "\n",
    "- Since the problem states V and U are nxn matrices, and $U^T U = I$ then we know these are orthogonal matrices. And thus we know that they are invertible (even though it storta states that in the problem)\n",
    "- We also know that a diagonal matrix determinent is the product of the diagonal.... It to is invertible if the diagonal has only non-zeros.\n",
    "- So by these properties we know $A$ is invertible.\n",
    "\n",
    "\n",
    "#### We can show this by\n",
    "\n",
    "\n",
    "$ A = UDV^{T} $\n",
    "\n",
    "\n",
    "\n",
    "$ UDV^{T} V D^{-1} U ^{T}   $\n",
    "\n",
    "$= I$\n",
    "\n",
    "\n",
    "\n",
    "Some notes on this\n",
    "\n",
    "- We already know that $D$ is invertible as stated above, where $D^{-1}$  would just be the recipocal of the each value along the diagonal\n",
    "\n",
    "\n",
    "\n"
   ]
  },
  {
   "cell_type": "markdown",
   "metadata": {},
   "source": [
    "\n"
   ]
  },
  {
   "cell_type": "markdown",
   "metadata": {},
   "source": [
    "$  $"
   ]
  }
 ],
 "metadata": {
  "language_info": {
   "name": "python"
  }
 },
 "nbformat": 4,
 "nbformat_minor": 2
}
