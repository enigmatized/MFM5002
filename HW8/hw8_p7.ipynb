{
 "cells": [
  {
   "cell_type": "markdown",
   "metadata": {},
   "source": [
    "$$\n",
    "A^2 = P D^2 P^T\n",
    "$$\n",
    "$$\n",
    "A^2 =\n",
    "\\begin{bmatrix} \\frac{1}{\\sqrt{3}} & \\frac{-1}{\\sqrt{6}} & \\frac{-1}{\\sqrt{2}} \\\\ \\frac{1}{\\sqrt{3}} & \\frac{-1}{\\sqrt{6}} & \\frac{1}{\\sqrt{2}} \\\\ \\frac{1}{\\sqrt{3}} & \\frac{2}{\\sqrt{6}} & 0 \\end{bmatrix}\n",
    "\\begin{bmatrix} 9 & 0 & 0 \\\\ 0 & 36 & 0 \\\\ 0 & 0 & 64 \\end{bmatrix}\n",
    "\\begin{bmatrix} \\frac{1}{\\sqrt{3}} & \\frac{1}{\\sqrt{3}} & \\frac{1}{\\sqrt{3}} \\\\ \\frac{-1}{\\sqrt{6}} & \\frac{-1}{\\sqrt{6}} & \\frac{2}{\\sqrt{6}} \\\\ \\frac{-1}{\\sqrt{2}} & \\frac{1}{\\sqrt{2}} & 0 \\end{bmatrix}\n",
    "$$"
   ]
  },
  {
   "cell_type": "markdown",
   "metadata": {},
   "source": [
    "$$\n",
    "A^5 = P D^5 P^T\n",
    "$$\n",
    "$$\n",
    "A^5 =\n",
    "\\begin{bmatrix} \\frac{1}{\\sqrt{3}} & \\frac{-1}{\\sqrt{6}} & \\frac{-1}{\\sqrt{2}} \\\\ \\frac{1}{\\sqrt{3}} & \\frac{-1}{\\sqrt{6}} & \\frac{1}{\\sqrt{2}} \\\\ \\frac{1}{\\sqrt{3}} & \\frac{2}{\\sqrt{6}} & 0 \\end{bmatrix}\n",
    "\\begin{bmatrix} 243 & 0 & 0 \\\\ 0 & 7776 & 0 \\\\ 0 & 0 & 32768 \\end{bmatrix}\n",
    "\\begin{bmatrix} \\frac{1}{\\sqrt{3}} & \\frac{1}{\\sqrt{3}} & \\frac{1}{\\sqrt{3}} \\\\ \\frac{-1}{\\sqrt{6}} & \\frac{-1}{\\sqrt{6}} & \\frac{2}{\\sqrt{6}} \\\\ \\frac{-1}{\\sqrt{2}} & \\frac{1}{\\sqrt{2}} & 0 \\end{bmatrix}\n",
    "$$"
   ]
  }
 ],
 "metadata": {
  "language_info": {
   "name": "python"
  }
 },
 "nbformat": 4,
 "nbformat_minor": 2
}
