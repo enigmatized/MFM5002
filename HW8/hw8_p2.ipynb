{
 "cells": [
  {
   "cell_type": "markdown",
   "metadata": {},
   "source": [
    "$ (t^2) (2 -t + t^2)$\n",
    "\n",
    "$  (2t^2 -t^3 + t^4)$\n"
   ]
  },
  {
   "cell_type": "markdown",
   "metadata": {},
   "source": [
    "\n",
    "#### Show Homogeniety\n",
    "\n",
    "$T(c v)= cT( v)$\n",
    "\n",
    "\n",
    "$ (t^2) (c(2 -t + t^2))$\n",
    "\n",
    "$ (t^2) (c2 -ct + ct^2)$\n",
    "\n",
    "\n",
    "$  (c2t^2 -ct^3 + ct^4)$\n",
    "\n",
    "\n",
    "$  c(2t^2 -t^3 + t^4)$\n",
    "\n"
   ]
  },
  {
   "cell_type": "markdown",
   "metadata": {},
   "source": [
    "#### Show Addidtive property\n",
    "\n",
    "$T( v)  + T( u)= T( v + u)$\n",
    "\n",
    "Again because we are just dealing with multiplication\n",
    "\n",
    "\n",
    "$T( v + u) = (t^2)( v + u) = (t^2)( v) + (t^2)(u)= T( v + u)$\n",
    "\n",
    "\n",
    "\n",
    "\n"
   ]
  },
  {
   "cell_type": "markdown",
   "metadata": {},
   "source": [
    "$\n",
    "T(1) = t^2 \\cdot 1 = t^2 \\\\\n",
    "T(t) = t^2 \\cdot t = t^3 \\\\\n",
    "T(t^2) = t^2 \\cdot t^2 = t^4 \\\\ \\\\\n",
    "\\text{2. Express these results in coordinates relative to the basis } \\mathcal{C} = \\{1, t, t^2, t^3, t^4\\}: \\\\\n",
    "T(1) = t^2 = 0 \\cdot 1 + 0 \\cdot t + 1 \\cdot t^2 + 0 \\cdot t^3 + 0 \\cdot t^4 \\implies [T(1)]_{\\mathcal{C}} = \\begin{bmatrix} 0 \\\\ 0 \\\\ 1 \\\\ 0 \\\\ 0 \\end{bmatrix} \\\\ \\\\\n",
    "T(t) = t^3 = 0 \\cdot 1 + 0 \\cdot t + 0 \\cdot t^2 + 1 \\cdot t^3 + 0 \\cdot t^4 \\implies [T(t)]_{\\mathcal{C}} = \\begin{bmatrix} 0 \\\\ 0 \\\\ 0 \\\\ 1 \\\\ 0 \\end{bmatrix} \\\\ \\\\\n",
    "T(t^2) = t^4 = 0 \\cdot 1 + 0 \\cdot t + 0 \\cdot t^2 + 0 \\cdot t^3 + 1 \\cdot t^4 \\implies [T(t^2)]_{\\mathcal{C}} = \\begin{bmatrix} 0 \\\\ 0 \\\\ 0 \\\\ 0 \\\\ 1 \\end{bmatrix} \\\\ \\\\\n",
    "\\text{3. Form the matrix A using these coordinate vectors as columns:} \\\\\n",
    "A = \\begin{bmatrix} [T(1)]_{\\mathcal{C}} & [T(t)]_{\\mathcal{C}} & [T(t^2)]_{\\mathcal{C}} \\end{bmatrix} = \\begin{bmatrix} 0 & 0 & 0 \\\\ 0 & 0 & 0 \\\\ 1 & 0 & 0 \\\\ 0 & 1 & 0 \\\\ 0 & 0 & 1 \\end{bmatrix} \\\\ \\\\\n",
    "\\textbf{Answer (c):} \\text{ The matrix for } T \\text{ relative to the bases } \\mathcal{B} \\text{ and } \\mathcal{C} \\text{ is } A = \\begin{bmatrix} 0 & 0 & 0 \\\\ 0 & 0 & 0 \\\\ 1 & 0 & 0 \\\\ 0 & 1 & 0 \\\\ 0 & 0 & 1 \\end{bmatrix} \\text{.}\n",
    "$"
   ]
  }
 ],
 "metadata": {
  "language_info": {
   "name": "python"
  }
 },
 "nbformat": 4,
 "nbformat_minor": 2
}
