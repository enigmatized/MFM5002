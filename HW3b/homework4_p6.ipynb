{
 "cells": [
  {
   "cell_type": "markdown",
   "metadata": {},
   "source": [
    "# Problem A"
   ]
  },
  {
   "cell_type": "markdown",
   "metadata": {},
   "source": [
    "\n",
    "$ 2\\mathrm{e}^{-2y - x}$\n",
    "\n",
    "\n",
    "#### Solve for mariginal of X\n",
    "\n",
    "$ 2 \\int _0 ^{\\infty } \\mathrm{e}^{-2y - x} dy $\n",
    "\n",
    "u-sub such that $ −2y−x ⟶ du = -2dy $\n",
    "\n",
    "$ - \\int _0 ^{\\infty } \\mathrm{e}^{u} du $\n",
    "\n",
    "$-\\mathrm{e}^{-2y - x} \\large{]}  _0 ^{\\infty } =   \\mathrm{e}^{- x}$\n",
    "\n",
    "\n",
    "#### Solve for mariginal of Y\n",
    "\n",
    "$ 2 \\int \\mathrm{e}^{-2y - x} dx =   -2e^{-x-2y}  \\large{]}  _0 ^{\\infty } =  2e^{-2y}$\n",
    "\n",
    "\n",
    "### Validation check of $P_{X, Y}(X,Y) = P_{X}(X)P_{Y}(Y) $\n",
    "\n",
    "$2e^{-2y} \\mathrm{e}^{- x} = 2e^{- x -2y} $"
   ]
  },
  {
   "cell_type": "markdown",
   "metadata": {},
   "source": [
    "### Check if valid joint PDF\n",
    "\n",
    "Since we have the marginal of X\n",
    "\n",
    "$ \\int _0 ^{ \\infty} \\mathrm{e}^{- x} = -e^{-x} \\large{]} _0 ^\\infty = 1$\n",
    "\n",
    "Valid PDF $\\blacksquare$\n"
   ]
  },
  {
   "cell_type": "markdown",
   "metadata": {},
   "source": [
    "# Part B\n"
   ]
  },
  {
   "cell_type": "markdown",
   "metadata": {},
   "source": [
    "$\n",
    "\\begin{cases}\n",
    "8\\,x\\,y, & 0<x<y<1, \\\\\n",
    "0, & \\text{otherwise}.\n",
    "\\end{cases}\n",
    "$\n",
    "\n",
    "$\n",
    "\\text{Marginal of }X:\\quad\n",
    "f_X(x) = \\int_{x}^{1} 8\\,x\\,y \\,dy\n",
    "= 4\\,x\\,(1 - x^2),\n",
    "\\quad (0<x<1).\n",
    "$\n",
    "\n",
    "$\n",
    "\\text{Marginal of }Y:\\quad\n",
    "f_Y(y) = \\int_{0}^{y} 8\\,x\\,y \\,dx\n",
    "= 4\\,y^3,\n",
    "\\quad (0<y<1).\n",
    "$\n",
    "\n",
    "$\n",
    "\\text{Check: } f_X(x)\\,f_Y(y)\n",
    "= [\\,4\\,x\\,(1 - x^2)\\,]\\,[\\,4\\,y^3\\,]\n",
    "= 16\\,x\\,y^3\\,(1 - x^2)\n",
    "\\neq 8\\,x\\,y.\n",
    "$\n",
    "\n",
    "\n",
    "Hence, X and Y are not independent $\\blacksquare$"
   ]
  }
 ],
 "metadata": {
  "language_info": {
   "name": "python"
  }
 },
 "nbformat": 4,
 "nbformat_minor": 2
}
