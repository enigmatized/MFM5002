{
 "cells": [
  {
   "cell_type": "code",
   "execution_count": null,
   "metadata": {},
   "outputs": [],
   "source": []
  },
  {
   "cell_type": "markdown",
   "metadata": {},
   "source": [
    "### **(c) Are $X$ and $Y$ independent?**\n",
    "\n",
    "To find if $X$ and $Y$ independent, we  check of  $f(x,y) = f_X(x)\\, f_Y(y)$:\n",
    "\n",
    "$\n",
    "f_X(x)\\, f_Y(y) \n",
    "= \\frac{1}{2} \\times 3y^2 \n",
    "= \\frac{3}{2}\\,y^2 \n",
    "= f(x,y).\n",
    "$\n",
    "\n",
    "\n",
    "Since $f(x,y) = f_X(x)\\,f_Y(y)$ on the support, $X$ and $Y$ are independent.\n"
   ]
  },
  {
   "cell_type": "markdown",
   "metadata": {},
   "source": [
    "### **(d) Independence of $\\{X<1\\}$ and $Y\\ge 1/2$**\n",
    "\n",
    "Because $X$ and $Y$ are independent random variables, any event that depends only on $X$ is independent of any event that depends only on $Y$. \n",
    "\n",
    "\n",
    "So,\n",
    "$\n",
    "P(X<1, Y \\ge 1/2)\n",
    "= P(X<1)P(Y \\ge 1/2),\n",
    "$\n",
    "\n",
    "and the events $X<1$ and $Y \\ge \\frac{1}{2}$ are independent."
   ]
  },
  {
   "cell_type": "code",
   "execution_count": null,
   "metadata": {},
   "outputs": [],
   "source": []
  }
 ],
 "metadata": {
  "language_info": {
   "name": "python"
  }
 },
 "nbformat": 4,
 "nbformat_minor": 2
}
