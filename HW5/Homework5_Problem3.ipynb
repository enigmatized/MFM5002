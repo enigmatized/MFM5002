{
 "cells": [
  {
   "cell_type": "markdown",
   "metadata": {},
   "source": [
    "| Column 1                                    |   Attempt 1                                  |\n",
    "|--------------------------------------------|--------------------------------------------|\n",
    "|      |  These probelms feel intuitively obvious to me  |\n",
    "|     |  To show that $W_n$ is a martingale, we need to show that for all $W_n$, $E[W_{n+1} \\| W_n ] = W_n$ . Which feels like a proof by induction. Thought I do not think we need that. Since we can use the properties of expected value, linearity, I think we can achieve this.  |\n",
    "| | Since $E[W_n] = 0$, and $E[W_{n+1}] = E[2W_{n}] = 2E[W_{n}]$ |\n",
    "| | Actually this train of thought doesn't feel entirely right. |\n",
    "| | $E[W_{n+1} \\| W_n ] = E[2W_{n} \\| W_n ] = 2E[W_{n} \\| W_n ] = 2X_i$ |\n",
    "| | That is obviously not correctly. This is not taking into account a few things. For starters the bet strategy only doubles if I lose. I should draw a tree for this. |\n",
    "\n",
    "\n"
   ]
  },
  {
   "cell_type": "code",
   "execution_count": 2,
   "metadata": {},
   "outputs": [
    {
     "name": "stdout",
     "output_type": "stream",
     "text": [
      "Start\n",
      "├── Win a dollor stop play\n",
      "└── Lose a dollar\n",
      "    ├── Bets 2 dollars, wins two dollars\n",
      "    └── Bets 2 dollars, loses a total of 3 dollars\n"
     ]
    }
   ],
   "source": [
    "from anytree import Node, RenderTree\n",
    "\n",
    "\n",
    "def show_tree_game1():\n",
    "    # Create the nodes for the game\n",
    "    root = Node(\"Start\")\n",
    "    flip1_tails = Node(\"Win a dollor stop play\", parent=root)\n",
    "    flip1_heads = Node(\"Lose a dollar\", parent=root)\n",
    "    flip2_tails = Node(\"Bets 2 dollars, wins two dollars\", parent=flip1_heads)\n",
    "    flip2_heads = Node(\"Bets 2 dollars, loses a total of 3 dollars\", parent=flip1_heads)\n",
    "\n",
    "    # Render the tree structure\n",
    "    for pre, fill, node in RenderTree(root):\n",
    "        print(f\"{pre}{node.name}\")\n",
    "\n",
    "show_tree_game1()"
   ]
  }
 ],
 "metadata": {
  "kernelspec": {
   "display_name": "HackathonJan2025",
   "language": "python",
   "name": "python3"
  },
  "language_info": {
   "codemirror_mode": {
    "name": "ipython",
    "version": 3
   },
   "file_extension": ".py",
   "mimetype": "text/x-python",
   "name": "python",
   "nbconvert_exporter": "python",
   "pygments_lexer": "ipython3",
   "version": "3.13.1"
  }
 },
 "nbformat": 4,
 "nbformat_minor": 2
}
