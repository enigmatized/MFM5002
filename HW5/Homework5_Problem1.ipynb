{
 "cells": [
  {
   "cell_type": "markdown",
   "metadata": {},
   "source": [
    "| Proof                                    | My First Attempt                                  |\n",
    "|--------------------------------------------|--------------------------------------------|\n",
    "|$\\begin{aligned} E[S_{k_1, k_2}] &= E[S(k_2) - S(k_1)] \\\\ &= E[S(k_2)] - E[S(k_1)]\\end{aligned}$  | This seems evident by the definition of a random walk. Since $S(K_i)$ is the the sum of $X_i$ s, where $X_i$ is a Bernoulli random variable from {-1, 1} p=0.5 So the Expected value from $E[S(k_2) - S(k_1)] = E[\\sum _{k_1} ^{k_2} X_i  ] = 0$ |\n",
    "| By linearity of expectation: | $\\textbf{What Makes the proof better? What am I missing?}$ -  I should have mentioned that I am using the linearity of expecation, it is self evident it feels like that this point but it is also important to mention. |\n",
    "| $\\begin{aligned} E[S(k)] &= E\\left[\\sum_{i=1}^{k} X_i\\right] \\\\ &= \\sum_{i=1}^{k} E[X_i] \\\\ &= \\sum_{i=1}^{k} 0 \\\\ &= 0 \\end{aligned} $ | I have a feeling, but I didn't spell out that $ S_{k_1, k_2} = S(k_2) - S(k_1)$ even though that is in the problem statement |\n",
    "| $E[S_{k_1, k_2}] = E[S(k_2)] - E[S(k_1)] = 0 - 0 = 0$\n"
   ]
  },
  {
   "cell_type": "markdown",
   "metadata": {},
   "source": [
    "### Part B\n",
    "\n",
    "| Proof                                    | My First Attempt                                  |\n",
    "|--------------------------------------------|--------------------------------------------|\n",
    "|$\\begin{aligned} \\text{Var}(S_{k_1, k_2}) &= \\text{Var}(S(k_2) - S(k_1)) \\\\ \\end{aligned}   $ | So if we know $ \\mathbb{Var} (X_i) = x_i -x_1$ then we can say $\\begin{aligned}  \\mathbb{Var} (S_{k_1, k_2}) &=  \\mathbb{Var}(S(k_2) - S(k_1)) \\\\ &=  \\mathbb{Var} (S(k_2)) -  \\mathbb{Var} (S(k_1))\\end{aligned}$ |\n",
    "| $ \\text{Var}(X_i) = E[X_i^2] - (E[X_i])^2 = 1^2 \\cdot \\frac{1}{2} + (-1)^2 \\cdot \\frac{1}{2} - 0^2 = 1$ | $\\textbf{What Makes the proof better? What am I missing?}$ -  I should have mentioned that I am using the linearity of expecation, it is self evident it feels like that this point but it is also important to mention. |\n",
    "| $\\begin{aligned} \\text{Var}(S_{k_1, k_2}) &= \\text{Var}\\left(\\sum_{i=k_1+1}^{k_2} X_i\\right) \\\\ &= \\sum_{i=k_1+1}^{k_2} \\text{Var}(X_i) \\\\ &= \\sum_{i=k_1+1}^{k_2} 1 \\\\ &= k_2 - k_1 \\end{aligned} $ | I have a feeling, but I didn't spell out that $ S_{k_1, k_2} = S(k_2) - S(k_1)$ even though that is in the problem statement |\n",
    "|\n"
   ]
  }
 ],
 "metadata": {
  "language_info": {
   "name": "python"
  }
 },
 "nbformat": 4,
 "nbformat_minor": 2
}
