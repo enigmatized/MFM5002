{
 "cells": [
  {
   "cell_type": "markdown",
   "metadata": {},
   "source": [
    "Three things I learnt:\n"
   ]
  },
  {
   "cell_type": "markdown",
   "metadata": {},
   "source": [
    "## 1\n",
    "#### Misconceptions of martingales\n",
    "Walking away from the last class, I was mistaken on what a Martingale is.\n",
    "I thought it to always be the case where $E[x] = 0$\n",
    "\n",
    "I didn't really understand that there could be a lot of different probability distrobutions outside of uniform that could fit the martigale properties.\n",
    "\n",
    "Some of the martingale properties I over looked were\n",
    "\n",
    "1. $E[X_n] < \\infty$ \n",
    "2. $F_n$ is a filtration, which is an increasing sequence of $\\omega$ fields. Mention the filtration.\n",
    "3. $E[X_{n+1} | F_n] = X_n$\n",
    "\n",
    "- We covered in class, but it went over my head was that the equality in third condition is replaced by ≤ or ≥, then the process is called supermartingale or submartin-\n",
    "gale.\n",
    "\n",
    "______\n",
    "\n",
    "If I read about martingales online they talk about “σ-field\" or “σ-algebra”.\n",
    "I didn't know what these were.\n",
    "\n",
    "It is simply a collection of subsets of a underlying sample space/set.\n",
    "I “σ-field\" must have:\n",
    "\n",
    "- Contains the empty set.\n",
    "- \"It is colsed under complementation\" --- Which simply means if $A^c$ is in the set the $A$ must be in the set.\n",
    "- The set is countable.\n",
    "\n",
    "Going back to filterations, a filteration is just an increasing sequence of \"σ-fields\"."
   ]
  },
  {
   "cell_type": "markdown",
   "metadata": {},
   "source": [
    "## 2 \n",
    "#### How do Martingales relate to finance? \n",
    "So this just seems like a weird mathatical proerpty that, $E[X_{n+1} | F_n] = X_n$.\n",
    "I was having a hard time relating this to finance.\n",
    "After doing a little reading, I am seeing that the a martingale in some way says, \"There is no free lunch.\"\n",
    "Meaning based on the history our prediction powers did not go up.\n",
    "\n",
    "So If the market is non-arbitrage-able (meaning there’s no free lunch), then the discounted stock price (price adjusted for interest) can be thought of as a martingale.\n",
    "In other words, once you know the price right now, you expect that in the future—on average—it will grow only in line with interest, not magically above or below that.\n"
   ]
  },
  {
   "cell_type": "markdown",
   "metadata": {},
   "source": [
    "## 3\n",
    "\n",
    "#### How Does this relate to Brownian Motion?\n",
    "\n",
    "\n",
    "I am not sure if this relates to brownian motion, but I see a connection to option pricing with these two concepts.\n",
    "If brownian motion is just a random moving path, \n",
    "\n",
    "\n",
    "In the famous Black–Scholes approach, we model stock prices using geometric Brownian motion (a version of Brownian motion).\n",
    "\n",
    "$dS_t = \\mu S_t dt + \\sigma S_t dW_t $\n",
    "\n",
    "$\\mu $ drift\n",
    "\n",
    "$\\sigma$ stock vol\n",
    "\n",
    "$W_t$ is a standard Brownian motion (basically continous variable that has the property of a normal distribution)\n",
    "\n",
    "This model helps us explain our randomness.\n",
    "Then martingale aspect helps us bring together the \"no free lunch\" aspect.\n",
    "\n",
    "\n",
    "$dS_t = r S_t dt + \\sigma S_t dW_t ^ \\mathbf{Q} $\n",
    "\n",
    "\n",
    "So what are we doing in the above?\n",
    "We are basically saying\n",
    "$\\mu $, our drift, is the risk free rate.\n",
    "\n",
    "$\\mathbf{q}$ represents the \"measure of $Q$\", which is saying Risk-free probabilities.\n",
    "\n",
    "$\\mathbf{q}$ is the “risk-neutral measure” because it’s the probability measure that makes the discounted asset prices a fair-game martingale.\n",
    "\n",
    "THE BIG Connection:  the key reason for doing this is that once we discount by $e^{-rt} S_t$, the stock price process becomes a martingale. \n",
    "\n",
    "Meaning\n",
    "\n",
    "$E^Q [M_T | F_T] = M_t$\n"
   ]
  }
 ],
 "metadata": {
  "language_info": {
   "name": "python"
  }
 },
 "nbformat": 4,
 "nbformat_minor": 2
}
