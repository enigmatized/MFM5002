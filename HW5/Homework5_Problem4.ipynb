{
 "cells": [
  {
   "cell_type": "markdown",
   "metadata": {},
   "source": [
    "| My first attempt                                  | What is wrong, how could this be improved?                                    | Why Did I get this wrong? And how can I ensure I get this write ? |\n",
    "|--------------------------------------------|--------------------------------------------|--------------------------------------------|\n",
    "|   $E[M_{n+1} \\|F_n ] =E[X_i * M_n \\|F_n ] $   | Not so slight technical details, but $X_i$ should really be $X_{n+1}$   | Honestly, I do not think, I was thinking much about it. The $X_i$ vs $X_n+1$ in retrosepect, seems different, especially because it is needed in the end and that is where I hand waved(see below if you do not know what I am talking about|\n",
    "|$= M_n * E[X_i] =$| I skipped a lot here. 1) $ M_n = \\prod _{i=1} ^n  X_i$ is also, $F_n$ which only depends on $X_1... X_n$ we can take it out of the conditional. Therefore what I have left is $E[X_{n+1} * M_N \\| F_n] = M_n E[X_{n+1}  \\| F_n]$ . The second big part I should have states 2) What the fact since $X_{n+1} is independent from $X_1...X_n$| |\n",
    "|$ M_n$| $\\blacksquare$| |\n"
   ]
  },
  {
   "cell_type": "markdown",
   "metadata": {},
   "source": [
    "$E[M_{n+1}| F_n] = E[\\prod_{i=1}^{n+1} X_i| F_n] = E[X_{n+1} \\cdot \\prod_{i=1}^n X_i| F_n] = E[X_{n+1} \\cdot M_n| F_n]$\n",
    "\n",
    "Since $M_n = \\prod_{i=1}^n X_i$ is $F_n$, and it only depends on $X_1, X_2, ..., X_n$, tak it out of the conditional expectation:\n",
    "\n",
    "$E[X_{n+1} \\cdot M_n|F_n] = M_n \\cdot E[X_{n+1}|F_n]$\n",
    "\n",
    "Now, since $X_{n+1}$ is independent of $X_1, X_2, ..., X_n$, it's also independent of $F_n$. Therefore:\n",
    "\n",
    "$E[X_{n+1}| F_n] = E[X_{n+1}] = 1$\n",
    "\n",
    "This gives us:\n",
    "\n",
    "$ M_n \\cdot E[X_{n+1}|F_n] = M_n \\cdot 1 = M_n$\n"
   ]
  },
  {
   "cell_type": "code",
   "execution_count": null,
   "metadata": {
    "vscode": {
     "languageId": "plaintext"
    }
   },
   "outputs": [],
   "source": []
  }
 ],
 "metadata": {
  "language_info": {
   "name": "python"
  }
 },
 "nbformat": 4,
 "nbformat_minor": 2
}
