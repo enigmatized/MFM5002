{
 "cells": [
  {
   "cell_type": "markdown",
   "metadata": {},
   "source": [
    "| I might use this later                                    | Train of thought                                   |\n",
    "|--------------------------------------------|--------------------------------------------|\n",
    "| This is the first column. $$E = mc^2$$     | Hmmm so my first thought is, this doesn't seem hard, it is more of setting up the problem correctly. \"Show that the fraction of the black marbles in the urn is a martingale\". So the fraction of marbles is always 50%. So I think apart of showing this is a discrete simple random walk, is to  |\n",
    "| This is the first column. $$E = mc^2$$     | This is wrong, So if you have two marbles, white and black, and pick a black, you will have three marbeles that are white and two black.  |\n",
    "|| So then, that actually makes this a little hard. Your probability of the marbeles or fraction of marbles is dependent on that last? Oh, but that is in a sense of martingale $E[M_n \\| M_{n-1}] = M_{n-1}$ |\n",
    "|| $\\text{First we need to create a base in which we can play with:} \\begin{align}  B_n &= \\text{number of black marbles after } n \\text{ steps} \\\\  W_n &= \\text{number of white marbles after } n \\text{ steps} \\\\  X_n &=  \\frac{B_n}{B_n + W_n} = \\frac{B_n}{n+2} \\text{ (fraction of black marbles after } n \\text{ steps}) \\end{align}$|\n",
    "||$\\text{At the start of this game, } B_0 = 1 \\text{ and } W_0 = 1 \\text{, so } X_0 = \\frac{1}{2}.$|\n",
    "|| $\\text{We need to show } X_n \\text{ is a martingale, by showing:} \\begin{align}  E[X_{n+1} \\| X_0, X_1, \\ldots, X_n] = E[X_{n+1} \\| F_n ] = X_n \\end{align}$|\n",
    "|| Note this is easier to do on paper first |\n",
    "||$ \\text{As noted above, the } n \\text{ steps, we have } B_n \\text{ black marbles and } W_n \\text{ white marbles.} $|\n",
    "|| $ \\text{At step } n+1 \\text{, we have two possibilities:} \\begin{align} \\text{1. Draw a black marble with probability } \\frac{B_n}{B_n + W_n} = X_n \\\\  \\text{2. Draw a white marble with probability } \\frac{W_n}{B_n + W_n} = 1 - X_n  \\end{align} $ |\n",
    "|| $\\text{If black marble, then } B_{n+1} = B_n + 1 \\text{ and } W_{n+1} = W_n. $|\n",
    "|| $\\text{If  white marble, then } B_{n+1} = B_n \\text{ and } W_{n+1} = W_n + 1.$ |\n",
    "|| In a sense then we consider these two possible outcomes |\n",
    "||$  \\text{So now we have:} \\begin{align} E[X_{n+1} \\| X_0, X_1, \\ldots, X_n] &= E\\left[\\frac{B_{n+1}}{B_{n+1} + W_{n+1}} \\| X_0, X_1, \\ldots, X_n\\right] \\\\ &= \\frac{B_n + 1}{B_n + W_n + 1} \\cdot X_n + \\frac{B_n}{B_n + W_n + 1} \\cdot (1 - X_n) \\\\ &= \\frac{B_n + 1}{n + 3} \\cdot X_n + \\frac{B_n}{n + 3} \\cdot (1 - X_n) \\\\ &= \\frac{B_n + 1}{n + 3} \\cdot \\frac{B_n}{n + 2} + \\frac{B_n}{n + 3} \\cdot \\left(1 - \\frac{B_n}{n + 2}\\right) \\\\ \\end{align} $ |\n",
    "|| $ \\begin{align} E[X_{n+1} \\| X_0, X_1, \\ldots, X_n] &= \\frac{B_n + 1}{n + 3} \\cdot \\frac{B_n}{n + 2} + \\frac{B_n}{n + 3} \\cdot \\frac{n + 2 - B_n}{n + 2} \\\\ &= \\frac{B_n(B_n + 1)}{(n + 3)(n + 2)} + \\frac{B_n(n + 2 - B_n)}{(n + 3)(n + 2)} \\\\ &= \\frac{B_n^2 + B_n + B_n(n + 2) - B_n^2}{(n + 3)(n + 2)} \\\\ &= \\frac{B_n(n + 3)}{(n + 3)(n + 2)} \\\\ &= \\frac{B_n}{n + 2} \\\\ &= X_n \\end{align} $|\n",
    "|| $\\text{Thus, } E[X_{n+1} \\| X_0, X_1, \\ldots, X_n] = X_n, \\blacksquare $|\n"
   ]
  },
  {
   "cell_type": "markdown",
   "metadata": {},
   "source": []
  },
  {
   "cell_type": "markdown",
   "metadata": {},
   "source": []
  }
 ],
 "metadata": {
  "kernelspec": {
   "display_name": "HackathonJan2025",
   "language": "python",
   "name": "python3"
  },
  "language_info": {
   "codemirror_mode": {
    "name": "ipython",
    "version": 3
   },
   "file_extension": ".py",
   "mimetype": "text/x-python",
   "name": "python",
   "nbconvert_exporter": "python",
   "pygments_lexer": "ipython3",
   "version": "3.13.1"
  }
 },
 "nbformat": 4,
 "nbformat_minor": 2
}
