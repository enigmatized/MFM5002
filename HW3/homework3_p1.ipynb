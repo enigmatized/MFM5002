{
 "cells": [
  {
   "cell_type": "code",
   "execution_count": null,
   "metadata": {},
   "outputs": [],
   "source": [
    "#Does this work"
   ]
  },
  {
   "cell_type": "markdown",
   "metadata": {},
   "source": [
    "\n",
    "### Part A\n",
    "\n",
    "\n",
    "\n",
    "\n",
    "$ f(x,y) =  \\frac{3}{2} (x-2y)^2 $\n",
    "\n",
    "$ \\int  _0 ^1 \\int _0 ^1  \\frac{3}{2} (x-2y)^2 dx dy$\n",
    "\n",
    "$ \\int_{-\\infty}^{\\infty} \\int_{-\\infty}^{\\infty} f_{XY}(x, y) \\, dx \\, dy = 1 $\n",
    "\n",
    "$\n",
    "\\begin{aligned}\n",
    "\\int_{0}^{1} \\int_{0}^{1} \\frac{3}{2}(x - 2y)^2 \\, dx \\, dy &= \\frac{3}{2} \\int_{0}^{1} \\left[ \\int_{0}^{1} (x^2 - 4xy + 4y^2) \\, dx \\right] dy \\\\\n",
    "&= \\frac{3}{2} \\int_{0}^{1} \\left[ \\frac{1}{3}x^3 - 2x^2y + 4xy^2 \\right]_{x=0}^{x=1} dy \\\\\n",
    "&= \\frac{3}{2} \\int_{0}^{1} \\left( \\frac{1}{3} - 2y + 4y^2 \\right) dy \\\\\n",
    "&= \\frac{3}{2} \\left[ \\frac{1}{3}y - y^2 + \\frac{4}{3}y^3 \\right]_{0}^{1} \\\\\n",
    "&= \\frac{3}{2} \\left( \\frac{1}{3} - 1 + \\frac{4}{3} \\right) \\\\\n",
    "&= \\frac{3}{2} \\left( \\frac{2}{3} \\right) \\\\\n",
    "&= 1\n",
    "\\end{aligned}\n",
    "$"
   ]
  },
  {
   "cell_type": "markdown",
   "metadata": {},
   "source": [
    "### Part B: Find the marginal PDFs for X and Y.\n",
    "\n",
    "\n",
    "#### Marginal PDF of X  --- $f_X(x)$:\n",
    "\n",
    "$ f_X(x) = \\int_{-\\infty}^{\\infty} f_{XY}(x, y) \\, dy $\n",
    "\n",
    "\n",
    "$\n",
    "\\begin{aligned}\n",
    "f_X(x) &= \\int_{0}^{1} \\frac{3}{2}(x - 2y)^2 \\, dy \\\\\n",
    "&= \\frac{3}{2} \\int_{0}^{1} (x^2 - 4xy + 4y^2) \\, dy \\\\\n",
    "&= \\frac{3}{2} \\left[ x^2y - 2xy^2 + \\frac{4}{3}y^3 \\right]_{0}^{1} \\\\\n",
    "&= \\frac{3}{2} \\left( x^2 - 2x + \\frac{4}{3} \\right) \\\\\n",
    "&= \\frac{3}{2}x^2 - 3x + 2\n",
    "\\end{aligned}\n",
    "$\n",
    "\n",
    "\n",
    "##### Marginal PDF of Y --- $f_Y(y)$:\n",
    "\n",
    "$ \n",
    "\\begin{aligned}\n",
    "f_Y(y) &= \\int_{0}^{1} \\frac{3}{2}(x - 2y)^2 \\, dx \\\\\n",
    "&= \\frac{3}{2} \\int_{0}^{1} (x^2 - 4xy + 4y^2) \\, dx \\\\\n",
    "&= \\frac{3}{2} \\left[ \\frac{1}{3}x^3 - 2x^2y + 4xy^2 \\right]_{0}^{1} \\\\\n",
    "&= \\frac{3}{2} \\left( \\frac{1}{3} - 2y + 4y^2 \\right) \\\\\n",
    "&= 2y^2 - 3y + \\frac{1}{2}\n",
    "\\end{aligned}\n",
    "$\n"
   ]
  },
  {
   "cell_type": "markdown",
   "metadata": {},
   "source": [
    "### Part C  Find the marginal CDFs for X and Y.\n",
    "\n",
    "#### Marginal CDF of X (F_X(x)):\n",
    "\n",
    "$F_X(x) = \\int_{-\\infty}^{x} f_X(t) \\, dt$\n",
    "\n",
    "\n",
    "$\n",
    "\\begin{aligned}\n",
    "F_X(x) &= \\int_{0}^{x} (\\frac{3}{2}t^2 - 3t + 2) \\, dt \\\\\n",
    "        &= \\left[ \\frac{1}{2}t^3 - \\frac{3}{2}t^2 + 2t \\right]_{0}^{x} \\\\\n",
    "        &= \\frac{1}{2}x^3 - \\frac{3}{2}x^2 + 2x\n",
    "\\end{aligned}\n",
    "$\n",
    "\n",
    "#### Marginal CDF of Y (F_Y(y)):\n",
    "\n",
    "$\n",
    "\\begin{aligned}\n",
    "F_Y(y) &= \\int_0^y (2t^2 -3t + \\frac{1}{2})dt \\\\\n",
    "        &=[\\frac{2}{3}t^3 - \\frac{3}{2}t^2 + \\frac{1}{2}t]_0^y \\\\\n",
    "        &= \\frac{2}{3}y^3 - \\frac{3}{2}y^2 + \\frac{1}{2}y\n",
    "\\end{aligned}\n",
    "$"
   ]
  },
  {
   "cell_type": "markdown",
   "metadata": {},
   "source": [
    "### d. Find E[X] and E[Y].\n",
    "\n",
    "$\n",
    "\\begin{aligned}\n",
    "E[X] &= \\int_{-\\infty}^{\\infty} x f_X(x) \\, dx \\\\\n",
    "&= \\int_{0}^{1} x \\left( \\frac{3}{2}x^2 - 3x + 2 \\right) \\, dx\\\\\n",
    "&= \\int_{0}^{1}  \\left( \\frac{3}{2}x^3 - 3x^2 + 2x \\right) \\, dx \\\\\n",
    "&= \\left[ \\frac{3}{8}x^4 - x^3 + x^2 \\right]_{0}^{1} \\\\\n",
    "&= \\frac{3}{8} - 1 + 1 \\\\\n",
    "&= \\frac{3}{8}\n",
    "\\end{aligned}\n",
    "$\n",
    "\n",
    "\n"
   ]
  },
  {
   "cell_type": "markdown",
   "metadata": {},
   "source": [
    "$\n",
    "\\begin{aligned}\n",
    "E[Y] &= \\int_{-\\infty}^{\\infty} y f_Y(y) \\, dy \\\\\n",
    "&= \\int_{0}^{1} y(2y^2 - 3y + \\frac{1}{2}) \\, dy \\\\\n",
    "&= \\int_{0}^{1} (2y^3 - 3y^2 + \\frac{1}{2}y) \\, dy\\\\\n",
    "&= \\left[ \\frac{1}{2}y^4 - y^3 + \\frac{1}{4}y^2 \\right]_{0}^{1} \\\\\n",
    "&= \\frac{1}{2} - 1 + \\frac{1}{4} \\\\\n",
    "&= -\\frac{1}{4}\n",
    "\\end{aligned}\n",
    "$"
   ]
  },
  {
   "cell_type": "markdown",
   "metadata": {},
   "source": [
    "### e. Find E[XY].\n",
    "\n",
    "\n",
    "$\n",
    "\\begin{aligned}\n",
    "E[XY] &= \\int_{-\\infty}^{\\infty} \\int_{-\\infty}^{\\infty} xy \\, f_{XY}(x, y) \\, dx \\, dy \\\\\n",
    "&= \\int_{0}^{1} \\int_{0}^{1} xy \\cdot \\frac{3}{2}(x - 2y)^2 \\, dx \\, dy \\\\\n",
    "&= \\frac{3}{2} \\int_{0}^{1} \\int_{0}^{1} xy(x^2 - 4xy + 4y^2) \\, dx \\, dy \\\\\n",
    "&= \\frac{3}{2} \\int_{0}^{1} \\int_{0}^{1} (x^3y - 4x^2y^2 + 4xy^3) \\, dx \\, dy \\\\\n",
    "&= \\frac{3}{2} \\int_{0}^{1} \\left[ \\frac{1}{4}x^4y - \\frac{4}{3}x^3y^2 + 2x^2y^3 \\right]_{x=0}^{x=1} dy \\\\\n",
    "&= \\frac{3}{2} \\int_{0}^{1} \\left( \\frac{1}{4}y - \\frac{4}{3}y^2 + 2y^3 \\right) dy \\\\\n",
    "&= \\frac{3}{2} \\left[ \\frac{1}{8}y^2 - \\frac{4}{9}y^3 + \\frac{1}{2}y^4 \\right]_{0}^{1} \\\\\n",
    "&= \\frac{3}{2} \\left( \\frac{1}{8} - \\frac{4}{9} + \\frac{1}{2} \\right) \\\\\n",
    "&= \\frac{3}{2} (\\frac{9 - 32 + 36}{72}) \\\\\n",
    "&= \\frac{3}{2} (\\frac{13}{72}) = \\frac{13}{48}\n",
    "\\end{aligned}\n",
    "$"
   ]
  }
 ],
 "metadata": {
  "language_info": {
   "name": "python"
  }
 },
 "nbformat": 4,
 "nbformat_minor": 2
}
