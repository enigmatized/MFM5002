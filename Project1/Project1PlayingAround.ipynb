{
 "cells": [
  {
   "cell_type": "markdown",
   "metadata": {},
   "source": [
    "\n",
    "I want to create a game.\n",
    "I think the game is creating the game.\n",
    "I do not think this would be a fun game to play.\n",
    "\n",
    "\n",
    "\n",
    "So the game is based on a dice roll.\n",
    "In which depending what you roll first, decides the game you actually play for your payoff.\n",
    "\n",
    "- If you roll 1. You have to roll the dice again. Then you have to flip a fair coin 4 times. The number of heads from the coin flip is the the number you use an exponent to your dice roll number. \n",
    "- If you roll 2. You flip a coin as many times till you get a tails. Your payoff will be $e^Y$, where Y is the number of tries it took to get tails.\n",
    "- If you roll a 3. \n",
    "\n",
    "\n",
    "\n",
    "\n",
    "\n",
    "\n",
    "Where it is made up of multiple different probability distrobutions.\n",
    "\n",
    "So\n",
    "\n",
    "1) x^ Y Where x is the dice roll and Y is coin flipping 4 times.\n",
    "2) You get 50 chances to flip a coin, to see if you can get 5 heads in a row. If you do, you get 1000 * dice roll Y^2\n",
    "3) Some game where it is 3^ Y where it is a geometric distroution\n",
    "4) negative binomial distribution. You roll a dice, How many times failures will happen before we gain a success 3. We will call this random variable H. You then roll another di (Call it random variable G). Such that di roll decides your divisor to how much you make. (H^H)/G= Profit \n",
    "5) Hyper Gemotric distrobution.\n",
    "6) If you roll 6. You must flip a coin. Heads you lose $1000 dollars. Tails you get to play again. If you roll 6 again, you lose 10,000 dollars and do not ge to play again.\n",
    "\n",
    "\n",
    " Something to do with a possion distrobution????\n",
    "\n",
    "Really this is a game within a game within  game(like most games).\n",
    "\n",
    "\n"
   ]
  },
  {
   "cell_type": "markdown",
   "metadata": {},
   "source": [
    "# Game 1 or the Consequnce of roll the di once\n",
    "\n",
    "See game 1 notebook"
   ]
  },
  {
   "cell_type": "code",
   "execution_count": null,
   "metadata": {},
   "outputs": [
    {
     "name": "stdout",
     "output_type": "stream",
     "text": [
      "48.7615025\n",
      "22930.70642444249\n"
     ]
    }
   ],
   "source": []
  },
  {
   "cell_type": "markdown",
   "metadata": {},
   "source": [
    "# Game 1 or the Consequnce of rolling a 2 on the first roll"
   ]
  },
  {
   "cell_type": "markdown",
   "metadata": {},
   "source": [
    "**Solution Explanation in Markdown + LaTeX**\n",
    "\n",
    "Let $X$ be the value of a fair six-sided die roll, so $X \\in \\{1,2,3,4,5,6\\}$ with probability $\\frac{1}{6}$ each.\n",
    "\n",
    "Let $Y$ be the number of heads in 4 fair coin tosses, so $Y \\sim \\text{Binomial}(n=4, p=\\frac{1}{2})$. \n",
    "\n",
    "That is, $Y \\in \\{0,1,2,3,4\\}$ with\n",
    "\n",
    "\n",
    "$\n",
    "\\mathbb{P}(Y = k) = \\binom{4}{k} \\left(\\frac{1}{2}\\right)^4 = \\frac{\\binom{4}{k}}{16}.\n",
    "$\n",
    "\n",
    "Define $Z = X^Y$. \n",
    "\n",
    "We want $\\mathbb{E}[Z]$ and $\\mathbb{Var}[Z]$.\n",
    "\n"
   ]
  },
  {
   "cell_type": "code",
   "execution_count": 3,
   "metadata": {},
   "outputs": [
    {
     "name": "stdout",
     "output_type": "stream",
     "text": [
      "Simulated Mean: 48.647559\n",
      "Simulated Variance: 22807.50194434153\n",
      "Calculated Mean: 48.7\n",
      "Calculated Variance: 2267.646484375\n"
     ]
    }
   ],
   "source": [
    "import random\n",
    "import numpy as np\n",
    "\n",
    "def game():\n",
    "    dice_roll = random.randint(1, 6)\n",
    "    coin_flips = [random.choice([0, 1]) for _ in range(4)]  # 0: tails, 1: heads\n",
    "    heads = sum(coin_flips)\n",
    "    score = dice_roll ** heads\n",
    "    return score\n",
    "\n",
    "def simulate_game(num_simulations):\n",
    "    scores = [game() for _ in range(num_simulations)]\n",
    "    mean_score = np.mean(scores)\n",
    "    variance_score = np.var(scores)\n",
    "    return mean_score, variance_score\n",
    "\n",
    "num_simulations = 1000000  # Increased simulations for better accuracy\n",
    "simulated_mean, simulated_variance = simulate_game(num_simulations)\n",
    "\n",
    "print(f\"Simulated Mean: {simulated_mean}\")\n",
    "print(f\"Simulated Variance: {simulated_variance}\")\n",
    "\n",
    "print(f\"Calculated Mean: {48.7}\")\n",
    "print(f\"Calculated Variance: {2267.646484375}\")"
   ]
  },
  {
   "cell_type": "code",
   "execution_count": 62,
   "metadata": {},
   "outputs": [
    {
     "name": "stdout",
     "output_type": "stream",
     "text": [
      "1\n",
      "[3, 0, 4, 0, 0, 3, 2, 1, 4, 0]\n",
      "[4 6 2 3 5 1 1 1 4 1]\n"
     ]
    }
   ],
   "source": [
    "import random\n",
    "from scipy.stats import binom\n",
    "import numpy as np\n",
    "def uniform_sample_0_5():\n",
    "  \"\"\"\n",
    "  Generates a uniform random sample from the interval [0, 5).\n",
    "  \"\"\"\n",
    "  return int(random.uniform(0, 5))\n",
    "\n",
    "# Example usage:\n",
    "sample = uniform_sample_0_5()\n",
    "print(sample)\n",
    "\n",
    "# You can get multiple samples in a list like this:\n",
    "num_samples = 10\n",
    "samples = [uniform_sample_0_5() for _ in range(num_samples)]\n",
    "print(samples)\n",
    "\n",
    "print(np.random.randint(1, 7, num_samples))\n",
    "\n"
   ]
  },
  {
   "cell_type": "code",
   "execution_count": 6,
   "metadata": {},
   "outputs": [
    {
     "name": "stdout",
     "output_type": "stream",
     "text": [
      "Outcomes: [0 1 2 3 4]\n",
      "Probabilities: [0.0625 0.25   0.375  0.25   0.0625]\n",
      "[0.0625 0.25   0.375  0.25   0.0625]\n"
     ]
    }
   ],
   "source": [
    "def binomial_distribution_4_half():\n",
    "  \"\"\"\n",
    "  Returns the probability distribution for a binomial distribution\n",
    "  with n=4 and p=0.5.\n",
    "  \"\"\"\n",
    "  n = 4  # Number of trials\n",
    "  p = 0.5  # Probability of success\n",
    "  x = np.arange(0, n + 1)  # Possible outcomes (0, 1, 2, 3, 4)\n",
    "  probabilities = binom.pmf(x, n, p) #Probability mass function\n",
    "  return x, probabilities\n",
    "\n",
    "# Example usage:\n",
    "outcomes, probs = binomial_distribution_4_half()\n",
    "print(\"Outcomes:\", outcomes)\n",
    "print(\"Probabilities:\", probs)\n",
    "\n",
    "#or, if you just want the probability mass function:\n",
    "def binomial_pmf_4_half():\n",
    "    n = 4\n",
    "    p = 0.5\n",
    "    x = np.arange(0, n + 1)\n",
    "    return binom.pmf(x,n,p)\n",
    "\n",
    "print(binomial_pmf_4_half())"
   ]
  },
  {
   "cell_type": "code",
   "execution_count": 7,
   "metadata": {},
   "outputs": [
    {
     "name": "stdout",
     "output_type": "stream",
     "text": [
      "Single sample: [1]\n"
     ]
    }
   ],
   "source": [
    "def random_binomial_sample(n, p, size=1):\n",
    "  \"\"\"\n",
    "  Generates random samples from a binomial distribution.\n",
    "\n",
    "  Args:\n",
    "    n: The number of trials.\n",
    "    p: The probability of success in each trial.\n",
    "    size: The number of samples to generate (default is 1).\n",
    "\n",
    "  Returns:\n",
    "    A NumPy array of random samples from the binomial distribution.\n",
    "  \"\"\"\n",
    "  return np.random.binomial(n, p, size)\n",
    "\n",
    "# Example usage:\n",
    "n = 4\n",
    "p = 0.5\n",
    "\n",
    "# Generate a single random sample:\n",
    "single_sample = random_binomial_sample(n, p)\n",
    "print(\"Single sample:\", single_sample)\n"
   ]
  },
  {
   "cell_type": "code",
   "execution_count": null,
   "metadata": {},
   "outputs": [
    {
     "name": "stdout",
     "output_type": "stream",
     "text": [
      "Exponential sample: 2\n",
      "Base: 2\n",
      "Result: 4\n"
     ]
    }
   ],
   "source": [
    "expon = np.random.binomial(n, p, 1)\n",
    "base = random.randint(0, 5)\n",
    "\n",
    "print(\"Exponential sample:\", expon)\n",
    "print(\"Base:\", base)\n",
    "print(\"Result:\",  base**expon)\n",
    "\n",
    "\n"
   ]
  },
  {
   "cell_type": "code",
   "execution_count": null,
   "metadata": {},
   "outputs": [
    {
     "name": "stdout",
     "output_type": "stream",
     "text": [
      "48.7146666\n",
      "22911.79105505084\n"
     ]
    }
   ],
   "source": []
  },
  {
   "cell_type": "code",
   "execution_count": 22,
   "metadata": {},
   "outputs": [
    {
     "data": {
      "text/plain": [
       "3"
      ]
     },
     "execution_count": 22,
     "metadata": {},
     "output_type": "execute_result"
    }
   ],
   "source": [
    "random.randint(0, 5)"
   ]
  },
  {
   "cell_type": "code",
   "execution_count": 23,
   "metadata": {},
   "outputs": [
    {
     "data": {
      "text/plain": [
       "array([2])"
      ]
     },
     "execution_count": 23,
     "metadata": {},
     "output_type": "execute_result"
    }
   ],
   "source": [
    "np.random.binomial(n, p, 1)"
   ]
  },
  {
   "cell_type": "markdown",
   "metadata": {},
   "source": [
    " $f(x) = \\frac{1}{\\sqrt{2\\pi}} e{-\\frac{x2}{2}} $\n",
    "\n",
    " $f(x) = \\frac{1}{5\\sqrt{2\\pi}} e{-\\frac{(x-7)2}{2 \\cdot 5^2}}$"
   ]
  },
  {
   "cell_type": "markdown",
   "metadata": {},
   "source": []
  },
  {
   "cell_type": "markdown",
   "metadata": {},
   "source": [
    "Z = X ^ Y "
   ]
  }
 ],
 "metadata": {
  "kernelspec": {
   "display_name": "HackathonJan2025",
   "language": "python",
   "name": "python3"
  },
  "language_info": {
   "codemirror_mode": {
    "name": "ipython",
    "version": 3
   },
   "file_extension": ".py",
   "mimetype": "text/x-python",
   "name": "python",
   "nbconvert_exporter": "python",
   "pygments_lexer": "ipython3",
   "version": "3.13.1"
  }
 },
 "nbformat": 4,
 "nbformat_minor": 2
}
