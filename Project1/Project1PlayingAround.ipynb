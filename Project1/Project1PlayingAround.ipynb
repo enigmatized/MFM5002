{
 "cells": [
  {
   "cell_type": "code",
   "execution_count": 20,
   "metadata": {},
   "outputs": [
    {
     "name": "stdout",
     "output_type": "stream",
     "text": [
      "4.19320386145044\n",
      "[4.631973292760648, 1.5390412327103364, 2.7556376034132466, 4.392618655876846, 4.258706954073127, 2.8612817747019847, 2.2612578742539124, 4.043986253790905, 3.183240909080939, 4.726878650825453]\n"
     ]
    }
   ],
   "source": [
    "import random\n",
    "from scipy.stats import binom\n",
    "import numpy as np\n",
    "def uniform_sample_0_5():\n",
    "  \"\"\"\n",
    "  Generates a uniform random sample from the interval [0, 5).\n",
    "  \"\"\"\n",
    "  return random.uniform(0, 5)\n",
    "\n",
    "# Example usage:\n",
    "sample = uniform_sample_0_5()\n",
    "print(sample)\n",
    "\n",
    "# You can get multiple samples in a list like this:\n",
    "num_samples = 10\n",
    "samples = [uniform_sample_0_5() for _ in range(num_samples)]\n",
    "print(samples)\n",
    "\n",
    "\n",
    "\n"
   ]
  },
  {
   "cell_type": "code",
   "execution_count": 7,
   "metadata": {},
   "outputs": [
    {
     "name": "stdout",
     "output_type": "stream",
     "text": [
      "Outcomes: [0 1 2 3 4]\n",
      "Probabilities: [0.0625 0.25   0.375  0.25   0.0625]\n",
      "[0.0625 0.25   0.375  0.25   0.0625]\n"
     ]
    }
   ],
   "source": [
    "def binomial_distribution_4_half():\n",
    "  \"\"\"\n",
    "  Returns the probability distribution for a binomial distribution\n",
    "  with n=4 and p=0.5.\n",
    "  \"\"\"\n",
    "  n = 4  # Number of trials\n",
    "  p = 0.5  # Probability of success\n",
    "  x = np.arange(0, n + 1)  # Possible outcomes (0, 1, 2, 3, 4)\n",
    "  probabilities = binom.pmf(x, n, p) #Probability mass function\n",
    "  return x, probabilities\n",
    "\n",
    "# Example usage:\n",
    "outcomes, probs = binomial_distribution_4_half()\n",
    "print(\"Outcomes:\", outcomes)\n",
    "print(\"Probabilities:\", probs)\n",
    "\n",
    "#or, if you just want the probability mass function:\n",
    "def binomial_pmf_4_half():\n",
    "    n = 4\n",
    "    p = 0.5\n",
    "    x = np.arange(0, n + 1)\n",
    "    return binom.pmf(x,n,p)\n",
    "\n",
    "print(binomial_pmf_4_half())"
   ]
  },
  {
   "cell_type": "code",
   "execution_count": 19,
   "metadata": {},
   "outputs": [
    {
     "name": "stdout",
     "output_type": "stream",
     "text": [
      "Single sample: [3]\n"
     ]
    }
   ],
   "source": [
    "def random_binomial_sample(n, p, size=1):\n",
    "  \"\"\"\n",
    "  Generates random samples from a binomial distribution.\n",
    "\n",
    "  Args:\n",
    "    n: The number of trials.\n",
    "    p: The probability of success in each trial.\n",
    "    size: The number of samples to generate (default is 1).\n",
    "\n",
    "  Returns:\n",
    "    A NumPy array of random samples from the binomial distribution.\n",
    "  \"\"\"\n",
    "  return np.random.binomial(n, p, size)\n",
    "\n",
    "# Example usage:\n",
    "n = 4\n",
    "p = 0.5\n",
    "\n",
    "# Generate a single random sample:\n",
    "single_sample = random_binomial_sample(n, p)\n",
    "print(\"Single sample:\", single_sample)\n"
   ]
  },
  {
   "cell_type": "code",
   "execution_count": 191,
   "metadata": {},
   "outputs": [
    {
     "name": "stdout",
     "output_type": "stream",
     "text": [
      "Exponential sample: 2\n",
      "Base: 5\n",
      "Result: 25\n"
     ]
    }
   ],
   "source": [
    "expon = np.random.binomial(n, p, 1)[0]\n",
    "base = random.randint(0, 5)\n",
    "\n",
    "print(\"Exponential sample:\", expon)\n",
    "print(\"Base:\", base)\n",
    "print(\"Result:\",  base**expon)\n",
    "\n",
    "\n"
   ]
  },
  {
   "cell_type": "code",
   "execution_count": 22,
   "metadata": {},
   "outputs": [
    {
     "data": {
      "text/plain": [
       "3"
      ]
     },
     "execution_count": 22,
     "metadata": {},
     "output_type": "execute_result"
    }
   ],
   "source": [
    "random.randint(0, 5)"
   ]
  },
  {
   "cell_type": "code",
   "execution_count": 23,
   "metadata": {},
   "outputs": [
    {
     "data": {
      "text/plain": [
       "array([2])"
      ]
     },
     "execution_count": 23,
     "metadata": {},
     "output_type": "execute_result"
    }
   ],
   "source": [
    "np.random.binomial(n, p, 1)"
   ]
  },
  {
   "cell_type": "markdown",
   "metadata": {},
   "source": [
    "Z = X ^ Y "
   ]
  }
 ],
 "metadata": {
  "kernelspec": {
   "display_name": "HackathonJan2025",
   "language": "python",
   "name": "python3"
  },
  "language_info": {
   "codemirror_mode": {
    "name": "ipython",
    "version": 3
   },
   "file_extension": ".py",
   "mimetype": "text/x-python",
   "name": "python",
   "nbconvert_exporter": "python",
   "pygments_lexer": "ipython3",
   "version": "3.13.1"
  }
 },
 "nbformat": 4,
 "nbformat_minor": 2
}
