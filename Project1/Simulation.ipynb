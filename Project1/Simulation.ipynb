{
 "cells": [
  {
   "cell_type": "code",
   "execution_count": null,
   "metadata": {},
   "outputs": [],
   "source": []
  },
  {
   "cell_type": "code",
   "execution_count": 17,
   "metadata": {},
   "outputs": [
    {
     "name": "stdout",
     "output_type": "stream",
     "text": [
      "Estimated Mean: 11.5380\n",
      "Estimated Variance: 21227.8058\n"
     ]
    }
   ],
   "source": [
    "import random\n",
    "import statistics\n",
    "\n",
    "def play_entire_game(num_simulations=10_000_000):\n",
    "    \"\"\"\n",
    "    Simulate the described two-stage game multiple times and\n",
    "    estimate its expected payout and variance via Monte Carlo.\n",
    "\n",
    "    Game rules:\n",
    "      1) Flip a fair coin.\n",
    "         - If HEADS, flip again:\n",
    "             => If HEADS again, lose 100 immediately (payout = -100, game ends).\n",
    "             => If TAILS, proceed to Game1.\n",
    "         - If TAILS on the first flip, proceed to Game1 directly.\n",
    "\n",
    "      2) Game1:\n",
    "         - Roll a fair six-sided die (uniform).\n",
    "         - Flip a fair coin 4 times to count number of heads (Y).\n",
    "         - The Game1 payout is X^Y, where X is the die result.\n",
    "\n",
    "    Returns:\n",
    "        (estimated_mean, estimated_variance)\n",
    "    \"\"\"\n",
    "    payouts = []\n",
    "\n",
    "    for _ in range(num_simulations):\n",
    "        # Stage 1: \"Two coin flips\" logic\n",
    "        first_flip = random.choice(['H','T'])\n",
    "        if first_flip == 'H':\n",
    "            second_flip = random.choice(['H','T'])\n",
    "            if second_flip == 'H':\n",
    "                # Lose 100 and end\n",
    "                payouts.append(-100)\n",
    "                continue\n",
    "        #     else:\n",
    "        #         # Proceed to Game1\n",
    "        #         pass\n",
    "        # else:\n",
    "        #     # Tails on first flip -> proceed to Game1\n",
    "        #     pass\n",
    "\n",
    "        # Now we are in Game1\n",
    "        # Roll a fair die (1 to 6)\n",
    "        X = random.randint(1,6)\n",
    "        # Flip 4 coins, count heads\n",
    "        Y = sum(random.choice(['H','T']) == 'H' for __ in range(4))\n",
    "        # Payout = X^Y\n",
    "        payout = X**Y\n",
    "        payouts.append(payout)\n",
    "\n",
    "    # Compute empirical mean and variance\n",
    "    estimated_mean = statistics.mean(payouts)\n",
    "    # sample variance (unbiased); for large num_simulations close to true variance\n",
    "    estimated_variance = statistics.pvariance(payouts)  \n",
    "\n",
    "    return estimated_mean, estimated_variance\n",
    "\n",
    "if __name__ == \"__main__\":\n",
    "    mean_val, var_val = play_entire_game(num_simulations=1_000_000)\n",
    "    print(f\"Estimated Mean: {mean_val:.4f}\")\n",
    "    print(f\"Estimated Variance: {var_val:.4f}\")\n"
   ]
  },
  {
   "cell_type": "markdown",
   "metadata": {},
   "source": [
    "Ehancing this code with vectorization."
   ]
  },
  {
   "cell_type": "code",
   "execution_count": 11,
   "metadata": {},
   "outputs": [
    {
     "ename": "NameError",
     "evalue": "name 'n' is not defined",
     "output_type": "error",
     "traceback": [
      "\u001b[0;31m---------------------------------------------------------------------------\u001b[0m",
      "\u001b[0;31mNameError\u001b[0m                                 Traceback (most recent call last)",
      "Cell \u001b[0;32mIn[11], line 5\u001b[0m\n\u001b[1;32m      3\u001b[0m random_values \u001b[38;5;241m=\u001b[39m np\u001b[38;5;241m.\u001b[39mrandom\u001b[38;5;241m.\u001b[39muniform(\u001b[38;5;241m0\u001b[39m, \u001b[38;5;241m1\u001b[39m, size)\n\u001b[1;32m      4\u001b[0m result_vector \u001b[38;5;241m=\u001b[39m np\u001b[38;5;241m.\u001b[39mwhere(random_values \u001b[38;5;241m<\u001b[39m \u001b[38;5;241m0.25\u001b[39m, \u001b[38;5;241m0.25\u001b[39m, \u001b[38;5;241m0.75\u001b[39m)\n\u001b[0;32m----> 5\u001b[0m array \u001b[38;5;241m=\u001b[39m np\u001b[38;5;241m.\u001b[39mfull(\u001b[43mn\u001b[49m, \u001b[38;5;241m-\u001b[39m\u001b[38;5;241m100\u001b[39m)\n\u001b[1;32m      6\u001b[0m game1Vector \u001b[38;5;241m=\u001b[39m np\u001b[38;5;241m.\u001b[39mrandom\u001b[38;5;241m.\u001b[39mrandint(\u001b[38;5;241m1\u001b[39m, \u001b[38;5;241m7\u001b[39m, size) \u001b[38;5;241m*\u001b[39m\u001b[38;5;241m*\u001b[39m np\u001b[38;5;241m.\u001b[39mrandom\u001b[38;5;241m.\u001b[39mbinomial(\u001b[38;5;241m4\u001b[39m, \u001b[38;5;241m0.5\u001b[39m, size)\n",
      "\u001b[0;31mNameError\u001b[0m: name 'n' is not defined"
     ]
    }
   ],
   "source": [
    "import numpy as np\n",
    "size = 10_000_000\n",
    "random_values = np.random.uniform(0, 1, size)\n",
    "result_vector = np.where(random_values < 0.25, 0.25, 0.75)\n",
    "array = np.full(n, -100)\n",
    "game1Vector = np.random.randint(1, 7, size) ** np.random.binomial(4, 0.5, size)\n",
    "\n",
    "\n",
    "\n"
   ]
  },
  {
   "cell_type": "code",
   "execution_count": 18,
   "metadata": {},
   "outputs": [
    {
     "name": "stdout",
     "output_type": "stream",
     "text": [
      "10000000\n",
      "11.5276305\n",
      "21312.903623355458\n"
     ]
    }
   ],
   "source": [
    "import numpy as np\n",
    "\n",
    "size = 10_000_000\n",
    "# Generate random values and assign 0.25 or 0.75 accordingly\n",
    "random_values = np.random.uniform(0, 1, size)\n",
    "result_vector = np.where(random_values < 0.25, 0.25, 0.75)\n",
    "\n",
    "# Create an array of -100 (make sure it has the same length as result_vector)\n",
    "array = np.full(size, -100)\n",
    "\n",
    "# Create the game1Vector as defined\n",
    "game1Vector = np.random.randint(1, 7, size) ** np.random.binomial(4, 0.5, size)\n",
    "\n",
    "# Compute the final vector:\n",
    "# For indices where result_vector is 0.25, multiply by array (-100)\n",
    "# For indices where result_vector is 0.75, multiply by game1Vector\n",
    "final_vector = np.where(result_vector == 0.25,\n",
    "                        array,\n",
    "                        game1Vector)\n",
    "\n",
    "# Optionally, print or use final_vector\n",
    "print(final_vector.size)\n",
    "print(np.mean(final_vector))\n",
    "print(np.var(final_vector))"
   ]
  },
  {
   "cell_type": "code",
   "execution_count": 14,
   "metadata": {},
   "outputs": [
    {
     "name": "stdout",
     "output_type": "stream",
     "text": [
      "10000000\n",
      "21.094293075\n",
      "10341.667473572254\n"
     ]
    }
   ],
   "source": [
    "import numpy as np\n",
    "\n",
    "size = 10_000_000\n",
    "# Generate random values and assign 0.25 or 0.75 accordingly\n",
    "random_values = np.random.uniform(0, 1, size)\n",
    "result_vector = np.where(random_values < 0.25, 0.25, 0.75)\n",
    "\n",
    "# Create an array of -100 (make sure it has the same length as result_vector)\n",
    "array = np.full(size, -100)\n",
    "\n",
    "# Create the game1Vector as defined\n",
    "game1Vector = np.random.randint(1, 7, size) ** np.random.binomial(4, 0.5, size)\n",
    "\n",
    "# Split result_vector into two parts based on its values\n",
    "mask_0_25 = result_vector == 0.25\n",
    "mask_0_75 = result_vector == 0.75\n",
    "\n",
    "# Handle 0.25 case: Multiply by array (-100)\n",
    "final_vector_0_25 = result_vector[mask_0_25] * array[mask_0_25]\n",
    "\n",
    "# Handle 0.75 case: Multiply by game1Vector\n",
    "final_vector_0_75 = result_vector[mask_0_75] * game1Vector[mask_0_75]\n",
    "\n",
    "# Combine the two processed arrays back into one\n",
    "final_vector = np.empty_like(result_vector)\n",
    "final_vector[mask_0_25] = final_vector_0_25\n",
    "final_vector[mask_0_75] = final_vector_0_75\n",
    "\n",
    "# Optionally, print or use final_vector\n",
    "print(final_vector.size)\n",
    "print(np.mean(final_vector))\n",
    "print(np.var(final_vector))\n"
   ]
  },
  {
   "cell_type": "code",
   "execution_count": null,
   "metadata": {},
   "outputs": [],
   "source": [
    "import random\n",
    "import statistics\n",
    "\n",
    "def play_entire_game(num_simulations=10_000_000):\n",
    "    \"\"\"\n",
    "    Simulate the described two-stage game multiple times and\n",
    "    estimate its expected payout and variance via Monte Carlo.\n",
    "\n",
    "    Game rules:\n",
    "      1) Flip a fair coin.\n",
    "         - If HEADS, flip again:\n",
    "             => If HEADS again, lose 100 immediately (payout = -100, game ends).\n",
    "             => If TAILS, proceed to Game1.\n",
    "         - If TAILS on the first flip, proceed to Game1 directly.\n",
    "\n",
    "      2) Game1:\n",
    "         - Roll a fair six-sided die (uniform).\n",
    "         - Flip a fair coin 4 times to count number of heads (Y).\n",
    "         - The Game1 payout is X^Y, where X is the die result.\n",
    "\n",
    "    Returns:\n",
    "        (estimated_mean, estimated_variance)\n",
    "    \"\"\"\n",
    "    payouts = []\n",
    "\n",
    "    for _ in range(num_simulations):\n",
    "        # Stage 1: \"Two coin flips\" logic\n",
    "        first_flip = random.choice(['H','T'])\n",
    "        if first_flip == 'H':\n",
    "            second_flip = random.choice(['H','T'])\n",
    "            if second_flip == 'H':\n",
    "                # Lose 100 and end\n",
    "                payouts.append(-100)\n",
    "                continue\n",
    "            else:\n",
    "                # Proceed to Game1\n",
    "                pass\n",
    "        else:\n",
    "            # Tails on first flip -> proceed to Game1\n",
    "            pass\n",
    "\n",
    "        # Now we are in Game1\n",
    "        # Roll a fair die (1 to 6)\n",
    "        X = random.randint(1,6)\n",
    "        # Flip 4 coins, count heads\n",
    "        Y = sum(random.choice(['H','T']) == 'H' for __ in range(4))\n",
    "        # Payout = X^Y\n",
    "        payout = X**Y\n",
    "        payouts.append(payout)\n",
    "\n",
    "    # Compute empirical mean and variance\n",
    "    estimated_mean = statistics.mean(payouts)\n",
    "    # sample variance (unbiased); for large num_simulations close to true variance\n",
    "    estimated_variance = statistics.pvariance(payouts)  \n",
    "\n",
    "    return estimated_mean, estimated_variance\n",
    "\n",
    "if __name__ == \"__main__\":\n",
    "    mean_val, var_val = play_entire_game(num_simulations=1_000_000)\n",
    "    print(f\"Estimated Mean: {mean_val:.4f}\")\n",
    "    print(f\"Estimated Variance: {var_val:.4f}\")\n"
   ]
  }
 ],
 "metadata": {
  "kernelspec": {
   "display_name": "HackathonJan2025",
   "language": "python",
   "name": "python3"
  },
  "language_info": {
   "codemirror_mode": {
    "name": "ipython",
    "version": 3
   },
   "file_extension": ".py",
   "mimetype": "text/x-python",
   "name": "python",
   "nbconvert_exporter": "python",
   "pygments_lexer": "ipython3",
   "version": "3.13.1"
  }
 },
 "nbformat": 4,
 "nbformat_minor": 2
}
