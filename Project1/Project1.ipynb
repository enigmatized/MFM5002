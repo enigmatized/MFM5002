{
 "cells": [
  {
   "cell_type": "markdown",
   "metadata": {},
   "source": [
    "\n",
    "\n",
    "\n",
    "I think the game is creating the game.\n",
    "I do not think this would be a fun game to play.\n",
    "\n",
    "### GAME:\n",
    "\n",
    "You flip a fair coin, heads you, you must flip again. If you get head again, you lose $100.\n",
    "If you flip tails in either case, you get to play \"Game1\"\n",
    "\n",
    "\n",
    "Game 1 is: you have to roll a fair dice, then you have to flip a fair coin 4 times. The number of heads from the coin flip is the the number you use an exponent to your dice roll number. So if $X$ is dice roll, and $Y$ is the number of heads then \"Game1\" payout is $X^Y$.\n",
    "\n"
   ]
  },
  {
   "cell_type": "code",
   "execution_count": 2,
   "metadata": {},
   "outputs": [
    {
     "name": "stdout",
     "output_type": "stream",
     "text": [
      "Start\n",
      "├── Play Game1\n",
      "└── Flip Again\n",
      "    ├── Play Game1\n",
      "    └── Lose $100\n"
     ]
    }
   ],
   "source": [
    "from Game1_helpers import *\n",
    "show_tree_game1()\n"
   ]
  },
  {
   "cell_type": "markdown",
   "metadata": {},
   "source": [
    "#####  Simulation of entire game\n",
    "[SEE the simulation notebook for reference](./Project1/Simulation.ipynb)\n",
    "\n",
    "##### Simulation of of \"Game1\"\n",
    "\n",
    "[To calculate of Game1 or $X^Y$](./Project1/Game1.ipynb)\n",
    "\n",
    "#### Math\n",
    "\n",
    "\n",
    "[Derivation of expected value and variance](./Project1/ExpectedValueAndVariance.ipynb)"
   ]
  },
  {
   "cell_type": "markdown",
   "metadata": {},
   "source": []
  },
  {
   "cell_type": "markdown",
   "metadata": {},
   "source": [
    "## Take aways\n",
    "\n",
    "1. Total law of variance\n",
    "#### Law of Total Variance Refresher\n",
    "\n",
    "The law of total variance states:\n",
    "$\n",
    "\\mathrm{Var}(Y) \n",
    "\\;=\\; \n",
    "\\mathbb{E}\\bigl[\\mathrm{Var}(Y \\mid X)\\bigr] \n",
    "\\;+\\; \n",
    "\\mathrm{Var}\\bigl(\\mathbb{E}[Y \\mid X]\\bigr).\n",
    "$\n",
    "\n",
    "A common confusion arises with the second term, $\\mathrm{Var}(\\mathbb{E}[Y \\mid X])$, because $\\mathbb{E}[Y \\mid X = x]$ is indeed a constant for each fixed $x$. However, once $X$ is random, the quantity $\\mathbb{E}[Y \\mid X]$ becomes a \\emph{random variable} in terms of $X$. If that conditional expectation takes different values for different $X$, then $\\mathrm{Var}(\\mathbb{E}[Y \\mid X])$ can be strictly positive.\n",
    "\n",
    "\n",
    "2. \n",
    "\n",
    "\n",
    "#### If I had more time.\n",
    "\n",
    "My stomach is always much larger than my eyes.\n",
    "You can see [The orignal toy game I was working on here](./Project1/Project1PlayingAround.ipynb)\n",
    "\n",
    "But the math was not too complex, but when solving for the variance... I had trouble.\n",
    "I even had trouble calculating the correct variance for my small toy game.\n",
    "I calculated on thing, but the simulation was coming up with something different.\n",
    "Which was nice, because I knew my math was likely wrong and the simulation was more correct.\n",
    "\n",
    "I like this project because I started to think and play with random variables in a way, that I haven't encountered yet.\n",
    "It was, in a sense, playing the what I could do and the bounds of these random variable creatures, and the bounds of what I can do with my math skills.\n",
    "\n",
    "\n",
    "Plus it take time to create these notebooks.\n",
    "Even with the help of Chatgpt, it still takes time,\n"
   ]
  },
  {
   "cell_type": "markdown",
   "metadata": {},
   "source": [
    "\n"
   ]
  }
 ],
 "metadata": {
  "kernelspec": {
   "display_name": "HackathonJan2025",
   "language": "python",
   "name": "python3"
  },
  "language_info": {
   "codemirror_mode": {
    "name": "ipython",
    "version": 3
   },
   "file_extension": ".py",
   "mimetype": "text/x-python",
   "name": "python",
   "nbconvert_exporter": "python",
   "pygments_lexer": "ipython3",
   "version": "3.13.1"
  }
 },
 "nbformat": 4,
 "nbformat_minor": 2
}
