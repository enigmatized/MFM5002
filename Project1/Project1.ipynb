{
 "cells": [
  {
   "cell_type": "markdown",
   "metadata": {},
   "source": [
    "\n",
    "\n",
    "\n",
    "\n",
    "\n",
    "\n",
    "You flip a coin, heads you, you must flip again. If you get head again, you lose $100.\n",
    "If you flip tails in either case, you get to play \"Game1\"\n",
    "\n",
    "\n",
    "Game 1 is You have to roll a fair dice . Then you have to flip a fair coin 4 times. The number of heads from the coin flip is the the number you use an exponent to your dice roll number. So if $X$ is dice roll, and $Y$ is the number of heads then \"Game1\" payout is $X^Y$.\n",
    "\n"
   ]
  },
  {
   "cell_type": "code",
   "execution_count": 2,
   "metadata": {},
   "outputs": [
    {
     "name": "stdout",
     "output_type": "stream",
     "text": [
      "Start\n",
      "├── Play Game1\n",
      "└── Flip Again\n",
      "    ├── Play Game1\n",
      "    └── Lose $100\n"
     ]
    }
   ],
   "source": [
    "from Game1_helpers import *\n",
    "show_tree_game1()\n"
   ]
  },
  {
   "cell_type": "markdown",
   "metadata": {},
   "source": [
    "To see analysis on game1 go to "
   ]
  }
 ],
 "metadata": {
  "kernelspec": {
   "display_name": "HackathonJan2025",
   "language": "python",
   "name": "python3"
  },
  "language_info": {
   "codemirror_mode": {
    "name": "ipython",
    "version": 3
   },
   "file_extension": ".py",
   "mimetype": "text/x-python",
   "name": "python",
   "nbconvert_exporter": "python",
   "pygments_lexer": "ipython3",
   "version": "3.13.1"
  }
 },
 "nbformat": 4,
 "nbformat_minor": 2
}
