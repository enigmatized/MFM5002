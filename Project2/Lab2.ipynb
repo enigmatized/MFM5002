{
 "cells": [
  {
   "cell_type": "code",
   "execution_count": null,
   "id": "5e0de6c4-a85f-4681-bf94-8c7374235676",
   "metadata": {},
   "outputs": [],
   "source": [
    "\n",
    "\n",
    "\n"
   ]
  },
  {
   "cell_type": "markdown",
   "id": "9fa49bf1-abed-47fb-9659-8c17bfa9adee",
   "metadata": {},
   "source": [
    "### Simple example\n",
    "\n",
    "we Are just finding a fit.\n",
    "\n",
    "Say given a list of points of (x,y)\n",
    "We want to find a line that best fits that line.\n",
    "\n",
    "\n",
    "\n",
    "$ min | \\hat y - \\textbf{X} \\hat b |^ 2 $  \n",
    "\n",
    "This pretty.\n",
    "\n",
    "Geometrically, $\\mathbf{y}$\n",
    " is a point in $\\mathbb{R}^n$\n",
    " \n",
    ", and $\\mathbf{X} \\boldsymbol{\\beta}$\n",
    "\n",
    " is a point in the column space of $\\mathbf{X}$\n",
    " \n",
    " (the subspace spanned by the columns of $\\mathbf{X}$). \n",
    "\n",
    "The goal is to find the $\\mathbf{X} \\boldsymbol{\\beta}$ \n",
    " closest to $\\mathbf{y}$\n",
    " \n",
    ", which is the orthogonal projection of $\\mathbf{y}$\n",
    " onto the column space of $\\mathbf{X}$\n",
    ".\n",
    "\n",
    "\n"
   ]
  }
 ],
 "metadata": {
  "kernelspec": {
   "display_name": "Python 3 (ipykernel)",
   "language": "python",
   "name": "python3"
  },
  "language_info": {
   "codemirror_mode": {
    "name": "ipython",
    "version": 3
   },
   "file_extension": ".py",
   "mimetype": "text/x-python",
   "name": "python",
   "nbconvert_exporter": "python",
   "pygments_lexer": "ipython3",
   "version": "3.12.4"
  }
 },
 "nbformat": 4,
 "nbformat_minor": 5
}
