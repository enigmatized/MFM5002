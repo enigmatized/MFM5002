{
 "cells": [
  {
   "cell_type": "markdown",
   "metadata": {},
   "source": [
    "\n",
    "1. # Intuition behind the monte carlo integration\n",
    "\n",
    "I do not think I understood the proof we did in class.\n",
    "The part that I was perplexed by and I think I have a more firm grasp on is why do pull a random sample, then plug in f(x) and take the mean of that process?\n",
    "\n",
    "My intuition would be to do something like, to draw random samples for x, then random samples for y (the range).\n",
    "Then for each pair of random numbers we sampled, we plug in f(x) and see if our random y is above or below that.\n",
    "Then we would take number of times we sampled where the pair (x_0, y_0), is $f(x_0) >=y_0$ divided by the area. \n",
    "\n",
    "<!-- Shouldn't it be something like.\n",
    "Randomly pull from the 2-d space then see if we are above or below that ?\n",
    "Like random pull x, then y. Then see if plugging in that x  into f(x) if it is bigger or less then that equation.\n",
    "Then that would give us a 1 or zero if it is -->\n",
    "\n",
    "I guess these are two different ways of solving the problem.\n",
    "<!-- \n",
    "Why are we taking random samples of x then plugging f(x) then taking the mean of that? I guess that does not intuitively make sense to me.  I think of an integral as area under the curve. Take the mean of a line does not seem like area under the curve. -->\n",
    "\n",
    "Answer or one way of answer this.\n",
    "\n",
    "1. In the problem sets we are working with in class and in the homework (when it came to monte carlo integration), we were working with bounds from 0 to \n",
    "This makes the length in the area 1 and we do not see that arise.\n",
    "2. We are taking the mean of the sampled mean of the curve, because that can be thought of the averge height of the rectangle we are solving for (in a 2d space.)\n",
    "\n",
    "\n",
    "\n",
    "\n",
    "Now the question is, does the logic I am stating apply to 3-d space?\n",
    "\n",
    "\n"
   ]
  },
  {
   "cell_type": "code",
   "execution_count": 1,
   "metadata": {},
   "outputs": [
    {
     "name": "stdout",
     "output_type": "stream",
     "text": [
      "Exact value = 2.208333\n",
      "Samples:      1000, MC estimate: 2.233148, error: 2.481509e-02\n",
      "Samples:     10000, MC estimate: 2.204015, error: 4.318400e-03\n",
      "Samples:    100000, MC estimate: 2.217446, error: 9.112789e-03\n",
      "Samples:   1000000, MC estimate: 2.203990, error: 4.343509e-03\n"
     ]
    }
   ],
   "source": [
    "import random\n",
    "import numpy as np\n",
    "\n",
    "def exact_integral():\n",
    "    \"\"\"Return the exact value of the integral ∫∫(x^2 + x*y^3) dA over [0,1]×[1,2].\"\"\"\n",
    "    return 53/24  # 2.2083333...\n",
    "\n",
    "def monte_carlo_integration(n_samples):\n",
    "    \"\"\"\n",
    "    Estimate the integral via Monte Carlo with n_samples random points.\n",
    "    The region is A=[0,1] x [1,2], so area=1.\n",
    "    \"\"\"\n",
    "    sum_f = 0.0\n",
    "    for _ in range(n_samples):\n",
    "        x = random.uniform(0, 1)\n",
    "        y = random.uniform(1, 2)\n",
    "        sum_f += x**2 + x * y**3\n",
    "    # The region area is 1, so integral estimate is average of f-values\n",
    "    return sum_f / n_samples\n",
    "\n",
    "\n",
    "exact_val = exact_integral()\n",
    "print(f\"Exact value = {exact_val:.6f}\")\n",
    "\n",
    "# Show multiple runs with increasing sample size\n",
    "sample_sizes = [1_000, 10_000, 100_000, 1_000_000]\n",
    "for n in sample_sizes:\n",
    "    estimate = monte_carlo_integration(n)\n",
    "    error = abs(estimate - exact_val)\n",
    "    print(f\"Samples: {n:9d}, MC estimate: {estimate:.6f}, error: {error:.6e}\")\n"
   ]
  },
  {
   "cell_type": "markdown",
   "metadata": {},
   "source": [
    "2. # Taylor series with two variables.\n",
    "\n",
    "\n",
    "I find it pretty intresting that the pattern is.\n",
    "\n",
    "f(x,y)  + d/dx + d/dy +\n",
    "\n",
    "# The formula for the third part of the taylor series of two variables.\n",
    "\n",
    "# FIX THIS SO IT IS BETTER FORMATTED\n",
    "$ f(x, y) = f(a, b) + fx(a, b)(x - a) + fy(a, b)(y - b) + $\n",
    "\n",
    "           $(1/2!) * [fxx(a, b)(x - a)^2 + 2fxy(a, b)(x - a)(y - b) + fyy(a, b)(y - b)^2] + $\n",
    "\n",
    "           $(1/3!) * [fxxx(a, b)(x - a)^3 + 3fxxy(a, b)(x - a)^2(y - b) + 3fxyy(a, b)(x - a)(y - b)^2 + fyyy(a, b)(y - b)^3] + ...$"
   ]
  },
  {
   "cell_type": "markdown",
   "metadata": {},
   "source": [
    "Last class I was wondering why we were doing Taylor series again.\n",
    "Well because taking Taylor series from multiple variables heavily relies on partial derivatives.\n",
    "\n",
    "Now stating that, does not give much intuition behind what that means.\n",
    "\n",
    "Intuition:\n",
    "Imagine a 3D surface representing the function f(x, y). A partial derivative is like taking a slice through this surface to see how the function changes along a particular direction, either along the x-axis or the y-axis, while keeping the other variable constant. In essence, it tells us how the function is changing with respect to one variable at a time.\n",
    "In the Taylor series formula, each term involves a partial derivative of the function evaluated at the center point. These partial derivatives capture how the function changes with respect to each variable independently. By combining these partial derivatives in the Taylor series, we can approximate the function's behavior in a multi-dimensional space.\n",
    "\n"
   ]
  },
  {
   "cell_type": "markdown",
   "metadata": {},
   "source": [
    "3. Gradient\n",
    "\n"
   ]
  }
 ],
 "metadata": {
  "kernelspec": {
   "display_name": "HackathonJan2025",
   "language": "python",
   "name": "python3"
  },
  "language_info": {
   "codemirror_mode": {
    "name": "ipython",
    "version": 3
   },
   "file_extension": ".py",
   "mimetype": "text/x-python",
   "name": "python",
   "nbconvert_exporter": "python",
   "pygments_lexer": "ipython3",
   "version": "3.13.1"
  }
 },
 "nbformat": 4,
 "nbformat_minor": 2
}
