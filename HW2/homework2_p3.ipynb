{
 "cells": [
  {
   "cell_type": "markdown",
   "metadata": {},
   "source": [
    "### Part A\n",
    "\n",
    "<!-- $ \\iint_{0}^{1} f(x,y) \\,dx \\,dy $ -->\n",
    "Compute the following double integral:\n",
    "\n",
    "$ \\iint_{A} (x^2 + xy^3) \\,dA $\n",
    "\n",
    "\n",
    "\n",
    "$ \\iint_{A} (x^2 + xy^3) \\,dx \\,dy  $\n",
    "\n",
    "\n",
    "$ \\int_{0}^1 \\int_{1}^2 (x^2 + xy^3) \\,dx \\,dy  $\n",
    "\n",
    "$ \\int_{0}^1   (2x^2 + 4x) - (x^2 + \\frac{x}{4}) \\,dx  + C$\n",
    "\n",
    "$ \\int_{0}^1   (x^2 +  \\frac{15x}{4}) \\,dx  + C$\n",
    "\n",
    "$    (\\frac{1^3}{3} +  \\frac{15}{8}) - (0^2 +  \\frac{15 * 0}{8})  + C$\n",
    "\n",
    "\n",
    "$    \\frac{1}{3} +  \\frac{15}{8}   + C$\n",
    "\n",
    "\n",
    "$    \\frac{8}{24} +  \\frac{45}{24}   + C$\n",
    "\n",
    "\n",
    "$     \\frac{53}{24}   + C$\n",
    "\n",
    "\n",
    "<!-- $    (1^2 +  3\\frac{3}{4}) - (0^2 +  3\\frac{3}{4})  + C$ -->\n",
    "\n",
    "<!-- $    (\\frac{1^3}{3} +  3\\frac{3}{8}) - (0^2 +  3\\frac{0}{8})  + C$ -->\n",
    "\n",
    "<!-- $ (  \\frac{19}{4})  + C$\n",
    "\n",
    "$ \\frac{19}{4}   + C$ -->\n"
   ]
  },
  {
   "cell_type": "markdown",
   "metadata": {},
   "source": [
    "### Part B\n",
    "\n",
    "$ \\int_{0}^1 \\int_{x^2}^x (30xy) \\,dy \\,dx   $\n",
    "\n",
    "$ \\int_{0}^1 \\frac{30xy^2}{2} ]_{(x^2)}^x   \\,dx   $\n",
    "\n",
    "$ \\int_{0}^1 \\frac{30x^3}{2} - \\frac{30x^5}{2}    \\,dx   $\n",
    "\n",
    "$ \\frac{30}{2} \\int_{0}^1 x^3 - x^5    \\,dx   $\n",
    "\n",
    "$ 15  (\\frac{1^4}{4} - \\frac{1^6}{6} ) $\n",
    "\n",
    "$  \\LARGE {\\frac{15}{12}}   $\n",
    "\n",
    "\n"
   ]
  },
  {
   "cell_type": "markdown",
   "metadata": {},
   "source": [
    "### Part c\n",
    "\n",
    "$f(x,y) =  xy^2$ Find the gradient at point (2,3)\n",
    "\n",
    "$\\frac{\\partial f}{\\partial x} = y^2$ \n",
    "\n",
    "$\\frac{\\partial f}{\\partial y} = 2xy$\n",
    "\n",
    "$\\nabla f(x,y) = \\begin{pmatrix} \\frac{\\partial f}{\\partial x} \\\\ \\frac{\\partial f}{\\partial y} \\end{pmatrix}$\n",
    "\n",
    "$\\nabla f(x,y) = \\begin{pmatrix} y^2 \\\\ 2xy \\end{pmatrix}$\n",
    "\n",
    "\n",
    "$\\nabla f(2,3) = \\begin{pmatrix} 9 \\\\ 12 \\end{pmatrix}$\n",
    "\n",
    "\n",
    "\n"
   ]
  }
 ],
 "metadata": {
  "kernelspec": {
   "display_name": "HackathonJan2025",
   "language": "python",
   "name": "python3"
  },
  "language_info": {
   "codemirror_mode": {
    "name": "ipython",
    "version": 3
   },
   "file_extension": ".py",
   "mimetype": "text/x-python",
   "name": "python",
   "nbconvert_exporter": "python",
   "pygments_lexer": "ipython3",
   "version": "3.13.1"
  }
 },
 "nbformat": 4,
 "nbformat_minor": 2
}
