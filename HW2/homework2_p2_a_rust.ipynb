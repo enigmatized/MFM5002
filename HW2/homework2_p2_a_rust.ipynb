{
 "cells": [
  {
   "cell_type": "code",
   "execution_count": 5,
   "metadata": {},
   "outputs": [
    {
     "name": "stdout",
     "output_type": "stream",
     "text": [
      "Exact Probability: 0.001893\n",
      "Simulated Probability (No External Crates): 0.000000\n"
     ]
    },
    {
     "data": {
      "text/plain": [
       "()"
      ]
     },
     "execution_count": 5,
     "metadata": {},
     "output_type": "execute_result"
    }
   ],
   "source": [
    "{\n",
    "\n",
    "// Function to calculate the exact probability using combinations\n",
    "fn calculate_exact_probability() -> f64 {\n",
    "    // Calculate combinations using the formula: nCr = n! / (r! * (n-r)!)\n",
    "    fn combinations(n: u32, r: u32) -> f64 {\n",
    "        if r > n {\n",
    "            return 0.0;\n",
    "        }\n",
    "        let mut result = 1.0;\n",
    "        for i in 0..r {\n",
    "            result = result * (n - i) as f64 / (i + 1) as f64;\n",
    "        }\n",
    "        result\n",
    "    }\n",
    "\n",
    "    // Total number of ways to choose 5 marbles from 100\n",
    "    let total_combinations = combinations(100, 5);\n",
    "    // Number of ways to choose 5 blue marbles from 30\n",
    "    let blue_combinations = combinations(30, 5);\n",
    "\n",
    "    blue_combinations / total_combinations\n",
    "}\n",
    "\n",
    "// Function to run the Monte Carlo simulation without external crates\n",
    "fn run_monte_carlo_simulation(num_trials: u32) -> f64 {\n",
    "    let mut success_count = 0;\n",
    "\n",
    "    // Create the urn with marbles (represented by numbers)\n",
    "    let mut urn = Vec::new();\n",
    "    for _ in 0..20 {\n",
    "        urn.push(0); // 0 represents red\n",
    "    }\n",
    "    for _ in 0..30 {\n",
    "        urn.push(1); // 1 represents blue\n",
    "    }\n",
    "    for _ in 0..50 {\n",
    "        urn.push(2); // 2 represents green\n",
    "    }\n",
    "\n",
    "    for _ in 0..num_trials {\n",
    "        // Manually draw 5 marbles without replacement\n",
    "        let mut sample = Vec::new();\n",
    "        let mut temp_urn = urn.clone(); // Use a temporary copy for each trial\n",
    "        for _ in 0..5 {\n",
    "            // Very basic random selection (replace with a better method if needed)\n",
    "            let index = (time_based_seed() % temp_urn.len() as u64) as usize;\n",
    "            sample.push(temp_urn.remove(index));\n",
    "        }\n",
    "\n",
    "        // Check if all drawn marbles are blue\n",
    "        if sample.iter().all(|&marble| marble == 1) {\n",
    "            success_count += 1;\n",
    "        }\n",
    "    }\n",
    "\n",
    "    success_count as f64 / num_trials as f64\n",
    "}\n",
    "\n",
    "// Very basic time-based seed for random number generation (not cryptographically secure)\n",
    "fn time_based_seed() -> u64 {\n",
    "    use std::time::SystemTime;\n",
    "    SystemTime::now()\n",
    "        .duration_since(SystemTime::UNIX_EPOCH)\n",
    "        .unwrap()\n",
    "        .as_millis() as u64\n",
    "}\n",
    "\n",
    "fn main() {\n",
    "    let num_trials = 100_000;\n",
    "\n",
    "    let exact_probability = calculate_exact_probability();\n",
    "    println!(\"Exact Probability: {:.6}\", exact_probability);\n",
    "\n",
    "    let simulated_probability = run_monte_carlo_simulation(num_trials);\n",
    "    println!(\"Simulated Probability (No External Crates): {:.6}\", simulated_probability);\n",
    "}\n",
    "\n",
    "\n",
    "main();\n",
    "time_based_seed();\n",
    "}"
   ]
  }
 ],
 "metadata": {
  "kernelspec": {
   "display_name": "Rust",
   "language": "rust",
   "name": "rust"
  },
  "language_info": {
   "codemirror_mode": "rust",
   "file_extension": ".rs",
   "mimetype": "text/rust",
   "name": "rust",
   "pygment_lexer": "rust",
   "version": ""
  }
 },
 "nbformat": 4,
 "nbformat_minor": 2
}
