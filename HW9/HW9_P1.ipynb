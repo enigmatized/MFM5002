{
 "cells": [
  {
   "cell_type": "code",
   "execution_count": 3,
   "id": "08d13a94-2f52-41e4-a108-b6e6444018a1",
   "metadata": {},
   "outputs": [],
   "source": [
    "# This was a pain to do.\n",
    "# This homework is a pain to do.\n",
    "# I am doing the problem by hand then typeing it into this notebook\n",
    "# Which actually is better for learning because it forces me to do it two times and really ensure I know the process/steps"
   ]
  },
  {
   "cell_type": "markdown",
   "id": "d1f16e03-d638-479d-b659-0918a4bb96e6",
   "metadata": {},
   "source": [
    "A =\n",
    "$\n",
    "\\begin{bmatrix}\n",
    "1 & 0 & 0 \\\\\n",
    "1 & 1 & 0 \\\\\n",
    "1 & 1 & 1 \\\\\n",
    "1 & 1 & 1\n",
    "\\end{bmatrix}\n",
    "$\n",
    "\n",
    "\n",
    "Note as a propety of $A = QR$\n",
    "\n",
    "$$A^T A = R^T R $$\n"
   ]
  },
  {
   "cell_type": "markdown",
   "id": "e3570149-4b4b-4d40-ae17-e6aa91650550",
   "metadata": {},
   "source": [
    "$\n",
    "\\begin{aligned}\n",
    "a_1 &= (1,1,1,1)^{\\mathsf T},\\\\\n",
    "a_2 &= (0,1,1,1)^{\\mathsf T},\\\\\n",
    "a_3 &= (0,0,1,1)^{\\mathsf T}.\n",
    "\\end{aligned}\n",
    "$\n",
    "\n",
    "$\\textbf{Step 1.}  q_1^\\prime=a_1. $ \n",
    "$\n",
    "q_1=\\frac{q_1^\\prime}{\\lVert q_1^\\prime\\rVert}\n",
    "    =\\frac12(1,1,1,1)^{\\mathsf T},\n",
    "\\qquad\\lVert q_1^\\prime\\rVert=2 .\n",
    "$\n",
    "\n",
    "\n",
    "$\\textbf{Step 2.}$  Remove the $q_1$-component from $a_2:$\n",
    "\n",
    "\n",
    "$\n",
    "q_2^\\prime\n",
    "   =a_2-\\frac{a_2^{\\!T}q_1^\\prime}{q_1^{\\prime T}q_1^\\prime}\\,q_1^\\prime\n",
    "   =(0,1,1,1)-\\frac34(1,1,1,1)\n",
    "   =\\Bigl(-\\tfrac34,\\tfrac14,\\tfrac14,\\tfrac14\\Bigr). \\;\n",
    "$\n",
    "\n",
    "\n",
    "Its norm is\n",
    "$\\lVert q_2^\\prime\\rVert=\\sqrt{\\tfrac34}$.\n",
    "\n",
    "$\\textbf{Step 3.}$  \n",
    "\n",
    "\n",
    "$\n",
    "\\begin{aligned}\n",
    "q_3^\\prime\n",
    "&=a_3-\\frac{a_3^{\\!T}q_1^\\prime}{q_1^{\\prime T}q_1^\\prime}\\,q_1^\\prime\n",
    "        -\\frac{a_3^{\\!T}q_2^\\prime}{q_2^{\\prime T}q_2^\\prime}\\,q_2^\\prime\\\\[4pt]\n",
    "&=(0,0,1,1)-\\frac12(1,1,1,1)-\\frac23\\Bigl(-\\tfrac34,\\tfrac14,\\tfrac14,\\tfrac14\\Bigr) \\\\[4pt]\n",
    "&=\\Bigl(0,-\\tfrac23,\\tfrac13,\\tfrac13\\Bigr).\n",
    "\\end{aligned}\n",
    "$\n",
    "\n",
    "\n",
    "\n",
    "Its norm is $\\lVert q_3^\\prime\\rVert=\\sqrt{\\tfrac23}$.\n"
   ]
  },
  {
   "cell_type": "markdown",
   "id": "b0c06fa0-ac13-4ca4-8b08-513217cef305",
   "metadata": {},
   "source": [
    "\n",
    "$\n",
    "\\begin{aligned}\n",
    "q_1 &=\\frac12(1,1,1,1)^{\\mathsf T},\\\\[4pt]\n",
    "q_2 &=\\frac{q_2^\\prime}{\\lVert q_2^\\prime\\rVert}\n",
    "    =\\Bigl(-\\frac{\\sqrt3}{2},\\frac{\\sqrt3}{6},\\frac{\\sqrt3}{6},\\frac{\\sqrt3}{6}\\Bigr)^{\\!\\mathsf T},\\\\[6pt]\n",
    "q_3 &=\\frac{q_3^\\prime}{\\lVert q_3^\\prime\\rVert}\n",
    "    =\\Bigl(0,-\\frac{\\sqrt6}{3},\\frac{\\sqrt6}{6},\\frac{\\sqrt6}{6}\\Bigr)^{\\!\\mathsf T}.\n",
    "\\end{aligned}\n",
    "$\n",
    "\n",
    "$\n",
    "Q=\\begin{bmatrix}\n",
    "\\frac12 & -\\frac{\\sqrt3}{2} & 0\\\\\n",
    "\\frac12 &  \\frac{\\sqrt3}{6} & -\\frac{\\sqrt6}{3}\\\\\n",
    "\\frac12 &  \\frac{\\sqrt3}{6} &  \\frac{\\sqrt6}{6}\\\\\n",
    "\\frac12 &  \\frac{\\sqrt3}{6} &  \\frac{\\sqrt6}{6}\n",
    "\\end{bmatrix},\n",
    "\\quad\n",
    "R=\\begin{bmatrix}\n",
    "2 & \\tfrac32 & 1\\\\\n",
    "0 & \\tfrac{\\sqrt3}{2} & \\tfrac{\\sqrt3}{3}\\\\\n",
    "0 & 0 & \\tfrac{\\sqrt6}{3}\n",
    "\\end{bmatrix},\n",
    "\\qquad\n",
    "A=QR,\\; Q^T A=R,\\;  Q^{\\mathsf T}Q=I_3.\n",
    "$\n"
   ]
  },
  {
   "cell_type": "markdown",
   "id": "045f4d9e-142d-46b8-bec5-b1e040994394",
   "metadata": {},
   "source": [
    "Q=\\begin{bmatrix}\n",
    "\\frac12 & -\\frac{\\sqrt3}{2} & 0\\\\\n",
    "\\frac12 &  \\frac{\\sqrt3}{6} & -\\frac{\\sqrt6}{3}\\\\\n",
    "\\frac12 &  \\frac{\\sqrt3}{6} &  \\frac{\\sqrt6}{6}\\\\\n",
    "\\frac12 &  \\frac{\\sqrt3}{6} &  \\frac{\\sqrt6}{6}\n",
    "\\end{bmatrix}"
   ]
  },
  {
   "cell_type": "markdown",
   "id": "e7eff561-1e40-46ce-b2be-9db9942fa0be",
   "metadata": {},
   "source": [
    "R=\\begin{bmatrix}\n",
    "2 & \\tfrac32 & 1\\\\\n",
    "0 & \\tfrac{\\sqrt3}{2} & \\tfrac{\\sqrt3}{3}\\\\\n",
    "0 & 0 & \\tfrac{\\sqrt6}{3}\n",
    "\\end{bmatrix}.\n",
    "\n"
   ]
  }
 ],
 "metadata": {
  "kernelspec": {
   "display_name": "Python 3 (ipykernel)",
   "language": "python",
   "name": "python3"
  },
  "language_info": {
   "codemirror_mode": {
    "name": "ipython",
    "version": 3
   },
   "file_extension": ".py",
   "mimetype": "text/x-python",
   "name": "python",
   "nbconvert_exporter": "python",
   "pygments_lexer": "ipython3",
   "version": "3.12.4"
  }
 },
 "nbformat": 4,
 "nbformat_minor": 5
}
