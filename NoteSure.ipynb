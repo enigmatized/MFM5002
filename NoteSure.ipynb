{
 "cells": [
  {
   "cell_type": "markdown",
   "metadata": {},
   "source": [
    "I want to try to explain linear regression on multiple levels.\n",
    "\n",
    "\n",
    "1. Simpler level\n",
    "2. More complex than simple\n",
    "3. Proof based. \n",
    "\n",
    "\n",
    "\n",
    "\n",
    "# 1) Simple explanation of linear regression\n",
    "\n",
    "Basically we are trying to fit a linear line to our data set.\n",
    "\n",
    "Say we have $ \\hat y = X \\hat b + \\epsilon $\n",
    "\n",
    "Where $X$ is a matrix. Say our observed data set.\n",
    "\n",
    "$ \\hat b $ vector coeffficients \n",
    "\n",
    "$ \\epsilon $ is our error term (honestly it is semi intresting to think of this error term instead of a coeffcient)\n",
    "\n",
    "\n",
    "We look to minimize :\n",
    "\n",
    "$ \\left\\| \\mathbf{y} - \\mathbf{X} \\boldsymbol{\\beta} \\right\\|^2\n",
    "$\n"
   ]
  },
  {
   "cell_type": "markdown",
   "metadata": {},
   "source": [
    "# What is linear regression.\n",
    "\n",
    "#### \n",
    "\n",
    "#### Why do we need linear algebra for this?\n",
    "\n",
    "\n",
    "\n",
    "#### Are there improved are variations of linear regression?\n",
    "\n",
    "\n",
    "#### Does PCA relate to linear regression? How?"
   ]
  },
  {
   "cell_type": "markdown",
   "metadata": {},
   "source": []
  },
  {
   "cell_type": "markdown",
   "metadata": {},
   "source": []
  },
  {
   "cell_type": "markdown",
   "metadata": {},
   "source": []
  },
  {
   "cell_type": "markdown",
   "metadata": {},
   "source": []
  }
 ],
 "metadata": {
  "language_info": {
   "name": "python"
  }
 },
 "nbformat": 4,
 "nbformat_minor": 2
}
